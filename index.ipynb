{
 "cells": [
  {
   "cell_type": "markdown",
   "metadata": {},
   "source": [
    "### Realizando todos os imports que serão necessário para o equacionamento do TG"
   ]
  },
  {
   "cell_type": "code",
   "execution_count": 93,
   "metadata": {},
   "outputs": [],
   "source": [
    "import sympy  as sp\n",
    "import numpy as np \n",
    "import pandas as pd \n",
    "import math as mt \n",
    "import matplotlib as plt"
   ]
  },
  {
   "cell_type": "code",
   "execution_count": 204,
   "metadata": {},
   "outputs": [
    {
     "data": {
      "text/latex": [
       "$\\displaystyle 𝑚̇$"
      ],
      "text/plain": [
       "𝑚̇"
      ]
     },
     "execution_count": 204,
     "metadata": {},
     "output_type": "execute_result"
    }
   ],
   "source": [
    "x, y, z, phi, T, T_max, T1, T2, T4,T_mr,  delta, P1, P2, P3, A_ref, A_h_eff, phi_ZP, theta, q_ref, A_h_reff, delta_P_3_4, R, m_ponto_3, T3, k, D_ref, phi_global, m_ponto_zp,  = sp.symbols(\n",
    "    [\n",
    "    'x','y','z', 'phi', 'T', 'T_max', 'T1', 'T2', 'T4', 'T_mr', 'delta', 'P1',\n",
    "    'P2', 'P3', 'A_ref', 'A_h_eff', 'phi_ZP', 'theta', 'q_ref', 'A_h_reff', \n",
    "    'delta_P_3_4','R', 'm_ponto_3','T3', 'k', 'D_ref', 'phi_global', 'm_ponto_zp'\n",
    "    ])\n",
    "\n",
    "\n"
   ]
  },
  {
   "cell_type": "markdown",
   "metadata": {},
   "source": [
    "### Funcao da equação (5):\n",
    "\n",
    "𝐶𝑥𝐻𝑦 + 𝑎𝑂2 → 𝑥𝐶𝑂2 + (𝑦⁄2)𝐻2O"
   ]
  },
  {
   "cell_type": "code",
   "execution_count": 192,
   "metadata": {},
   "outputs": [],
   "source": [
    " \n",
    "def razao_ar_comb_esteq(a, PMar, PMcomb):\n",
    "    A_C_esteq = a*(1 + 3.7274 + 0.0458) * (PMar/PMcomb)\n",
    "    return A_C_esteq\n",
    "\n",
    "teste = razao_ar_comb_esteq(17.75, 28.9645, 167.3087)\n",
    "# phi_esteq = 1/teste\n",
    "# phi_esteq\n"
   ]
  },
  {
   "cell_type": "markdown",
   "metadata": {},
   "source": [
    "### razão de equivalência\n",
    "A razão de equivalência é uma relação frequentemente usada para indicar se a mistura\n",
    "está pobre, rica ou está estequiométrica. A razão de equivalência é definida como:\n",
    "\n",
    "𝜙 =\n",
    "(𝐴/𝐶)𝑒𝑠𝑡𝑒𝑞\n",
    "(𝐴/𝐶)𝑟𝑒𝑎𝑙\n",
    "=\n",
    "(𝐶/𝐴)𝑟𝑒𝑎𝑙\n",
    "(𝐶/𝐴)𝑒𝑠𝑡𝑒q"
   ]
  },
  {
   "cell_type": "code",
   "execution_count": 193,
   "metadata": {},
   "outputs": [],
   "source": [
    "def razao_equivalencia(A_C_esteq, A_C_real):\n",
    "    phi = A_C_esteq/A_C_real\n",
    "    return ('rica' if phi > 1 else 'pobre')\n",
    "\n",
    "\n"
   ]
  },
  {
   "cell_type": "markdown",
   "metadata": {},
   "source": [
    "DUVIDA : COMO FAREMOS COM RELAÇÃO AO EQUACIONAMENTO DA Temperatura de Chama Adiabática ? "
   ]
  },
  {
   "cell_type": "markdown",
   "metadata": {},
   "source": [
    "### Turbina a gás\n",
    "\n",
    "- Componente 1:\n",
    "    - Compressor, que recebe potência de eixo da turbina, converte em energia que é\n",
    "entregue ao ar elevando a sua entalpia e, por consequência, a pressão e a temperatura\n",
    "desse fluido de trabalho\n",
    "\n",
    "- Componente 2:\n",
    "    - Câmara de combustão, onde o ar, proveniente do compressor, é misturado ao\n",
    "combustível, formando os reagentes. É fornecida energia de ativação para que a\n",
    "combustão desses reagentes inicie e se processe em seu interior\n",
    "\n",
    "\n",
    "- Componente 3:\n",
    "    - Turbina, dispositivo mecânico ideal que converte a entalpia dos gases quentes advindos\n",
    "da câmara de combustão em energia mecânica em potência de eixo"
   ]
  },
  {
   "cell_type": "markdown",
   "metadata": {},
   "source": [
    "### Perda de pressao quente/fria\n",
    "\n",
    "- Sendo 𝑃1 e 𝑃2 as pressões totais nas seções transversais logo ao início e logo ao final do difusor, respectivamente\n",
    "\n",
    "- Onde os parâmetros 𝐴𝑟𝑒𝑓 e 𝑞𝑟𝑒𝑓 são, respectivamente, a área transversal e a pressão\n",
    "dinâmica avaliadas num plano de máxima área transversal da câmara de combustão, delimitada\n",
    "pelo seu invólucro\n",
    "\n",
    "- Já o termo 𝐴ℎ,𝑒𝑓𝑓, que representa a área efetiva total dos orifícios do tubo\n",
    "de chama, pode ser calculado de duas formas"
   ]
  },
  {
   "cell_type": "code",
   "execution_count": 194,
   "metadata": {},
   "outputs": [],
   "source": [
    "def perda_pressao_quente(rho, u, T4, T3):\n",
    "    delta_P_quente = 0.5 * rho * (u**2) * ((T4/T3) - 1 )\n",
    "    return delta_P_quente\n",
    "\n",
    "\n",
    "\n",
    "delta_P_difusor = P1 - P2  #Sendo 𝑃1 e 𝑃2 as pressões totais nas seções transversais logo ao início e logo ao final do difusor, respectivamente\n",
    "\n",
    "def P_turboChama(A_ref, A_h_eff, q_ref):   \n",
    "\n",
    "    delta_P_turbo_chama = ((A_ref/A_h_eff) ** 2) * q_ref\n",
    "\n",
    "    return delta_P_turbo_chama\n",
    "\n",
    "def perda_pressao_fria(P_difusor, P_turbo_chama):\n",
    "    delta_P_fria = sum(P_difusor, P_turbo_chama)\n",
    "    return delta_P_fria\n"
   ]
  },
  {
   "cell_type": "markdown",
   "metadata": {},
   "source": [
    "### Dimensionalizando os orificios do tubo de chama:"
   ]
  },
  {
   "cell_type": "code",
   "execution_count": 195,
   "metadata": {},
   "outputs": [],
   "source": [
    "def dimensao_orificio_tubo_chama(A_ref, delta_p_3_4, q_ref, delta_P_difusor):\n",
    "    dimensao_orificioTuboChama = A_ref/(((delta_p_3_4/q_ref) - (delta_P_difusor/q_ref))**0.5)\n",
    "    return dimensao_orificioTuboChama"
   ]
  },
  {
   "cell_type": "markdown",
   "metadata": {},
   "source": [
    "### Calculando A_h_reff"
   ]
  },
  {
   "cell_type": "code",
   "execution_count": 196,
   "metadata": {},
   "outputs": [],
   "source": [
    "#Como esperando muitos valores de entrada para fazermos o somatório, passaremos como entrada uma lista\n",
    "\n",
    "C_d = []\n",
    "A_h = []\n",
    "\n",
    "def A_h_eff_function(C_d, A_h):\n",
    "    somatorio_A_h_reff = 0\n",
    "    for c in range(len(C_d)):\n",
    "        somatorio_A_h_reff =  somatorio_A_h_reff + C_d[c] * A_h[c]  \n",
    "        \n",
    "    return somatorio_A_h_reff\n",
    "\n",
    "# A_h_eff_function(C_d, A_h)\n"
   ]
  },
  {
   "cell_type": "markdown",
   "metadata": {},
   "source": [
    "### Parametros para especificar a perda de pressão\n",
    "\n",
    "- O primeiro (∆𝑃3−4/𝑃3), chamado de perda de pressão global, geralmente assume\n",
    "valores entre 4% a 8%, dependendo do tipo de câmara de combustão. O segundo termo\n",
    "(∆𝑃3−4/𝑞𝑟𝑒𝑓), chamado de fator de perda de pressão, é mais expressivo para o projetista pois\n",
    "denota a resistência do fluido em atravessar a câmara de combustão. Aerodinamicamente, pode\n",
    "ser considerado um equivalente ao “coeficiente de arrasto”. Ambos os termos não consideram\n",
    "a perda “quente” "
   ]
  },
  {
   "cell_type": "code",
   "execution_count": 197,
   "metadata": {},
   "outputs": [
    {
     "data": {
      "text/latex": [
       "$\\displaystyle \\frac{R \\delta_{P 3 4} \\left(T_{3} m_{ponto 3}\\right)^{1.0}}{2 A_{ref}^{2} P_{3} q_{ref}}$"
      ],
      "text/plain": [
       "R*delta_P_3_4*(T3*m_ponto_3)**1.0/(2*A_ref**2*P3*q_ref)"
      ]
     },
     "execution_count": 197,
     "metadata": {},
     "output_type": "execute_result"
    }
   ],
   "source": [
    "delta_P_3_4 = P3 * (delta_P_3_4/q_ref) * (R/2) * ( (((m_ponto_3 * T3)**0.5)/ (A_ref*P3))**2 )\n",
    "\n",
    "delta_P_3_4"
   ]
  },
  {
   "cell_type": "markdown",
   "metadata": {},
   "source": [
    "### Qualidade Transversal de temp e Perfil Radial de temp\n",
    "\n",
    "\n",
    "- São dois os termos usados para descrever o perfil de temperatura transversal: a\n",
    "Qualidade Transversal de Temperatura (em inglês, Temperature Factor, Traverse Number ou\n",
    "Pattern Factor) e o Perfil Radial de Temperatura (em inglês, Profile Factor), expressos\n",
    "matematicamente a seguir:"
   ]
  },
  {
   "cell_type": "code",
   "execution_count": 198,
   "metadata": {},
   "outputs": [],
   "source": [
    "def qualidade_tranversal_temp(T_max, T4, T3):\n",
    "    qualidade_trans_temp = (T_max - T4)/(T4 - T3)\n",
    "    return qualidade_trans_temp\n",
    "\n",
    "def perfil_radial_temp(T_mr, T4, T3):\n",
    "    perfil_rad_temp = (T_mr - T4)/(T4 - T3)\n",
    "    return perfil_rad_temp\n",
    "\n",
    "#Onde 𝑇𝑚𝑎𝑥 é a máxima temperatura dos gases na saída da câmara de combustão e 𝑇𝑚𝑟 é a temperatura média mais alta de uma linha de circunferência escolhida\n",
    "    "
   ]
  },
  {
   "cell_type": "markdown",
   "metadata": {},
   "source": [
    "### Informacões para dimensionar do combustor\n",
    "\n",
    "- Vazão mássica\n",
    "- Vazão mássica de combustível\n",
    "- Distribuição de temperatura, pressão e velocidade na entrada do combustor;\n",
    "- Perfil transversal de temperatura na saída do combustor;\n",
    "- Limitações de perda de pressão;\n",
    "- Tipos de poluentes e níveis permitidos\n",
    "- Temperatura na parede permitida\n",
    "- Limitações de tamanho\n",
    "- Limitações de peso\n",
    "- Requisitos de durabilidade e semelhança de vida útil entre as trocas de peças;\n",
    "- Compatibilidade com o tipo de combustível;\n",
    "- Outras limitações ou requisitos especiais.\n"
   ]
  },
  {
   "cell_type": "markdown",
   "metadata": {},
   "source": [
    "### Calculo da área de transfência\n",
    "\n",
    "- A constante 𝑘 varia apenas com relação às unidades usadas, é igual à 143,5 ao utilizar\n",
    "a unidades do sistema internacional (SI) e é igual à 0,83, nas unidades 𝑙𝑏, 𝑓𝑡 𝑒 𝑅. O termo 𝑚̇3\n",
    "é vazão mássica de ar, 𝑃3 é a pressão total e 𝑇3 a temperatura estimadas na entrada da câmara,\n",
    "𝑞𝑟𝑒𝑓 é a pressão dinâmica na máxima área da seção transversal da carcaça (𝐴𝑟𝑒𝑓) e ∆𝑃3−4 é a\n",
    "perda de pressão total ao longo da câmara.\n",
    "Já  é a variável que se relaciona com a eficiência da combustão, . Como se busca\n",
    "obter a maior eficiência possível, é utilizado o parâmetro  correspondente, tendo seu valor\n",
    "igual à 73 . 106\n",
    "(unidades do SI)\n",
    "\n",
    "- O fator de correção da temperatura, b, é definido de acordo com a relação ar combustível\n",
    "da zona primária. Para razão de equivalência nesta região entre 0,6 e 1,0, a fórmula 𝑏 =\n",
    "245 (1,39 + ln \n",
    "𝑍𝑃) é empregada. Já para \n",
    "𝑍𝑃 entre 1,0 e 1,4\n",
    "\n",
    "- A razão 𝑚̇𝑍𝑃 𝑚̇ ⁄ 3\n",
    ", ou melhor, a porcentagem de ar a ser designada à zona primária, deve\n",
    "ser escolhida de modo que a razão de equivalência no local esteja na região de flamabilidade\n",
    "da mistura"
   ]
  },
  {
   "cell_type": "code",
   "execution_count": 199,
   "metadata": {},
   "outputs": [],
   "source": [
    "\n",
    "def area_tranferencia_aerodinamica(k, m_ponto_3m, T3, P3, delta_P_3_4, q_ref):\n",
    "    area_transf = k * ( ((m_ponto_3 * (T3**0.5) )/(P3))**2  * ((delta_P_3_4/q_ref)/(delta_P_3_4/P3)) ** 0.5 )\n",
    "    return area_transf\n",
    "\n",
    "def area_tranferencia_quimica(P3, A_ref, D_ref, T3, b, m_ponto_3):\n",
    "    theta = ((P3**1.75) * A_ref * (D_ref ** 0.75) * np.exp(T3/b))/ m_ponto_3\n",
    "    return theta\n",
    "\n"
   ]
  },
  {
   "cell_type": "code",
   "execution_count": 202,
   "metadata": {},
   "outputs": [],
   "source": [
    "\n",
    "def phi_global_function(m_comb_op, m_ponto_3_op, m_comb, m_ponto_3):\n",
    "    phi_global = (m_comb_op/m_ponto_3_op)/ (m_comb/m_ponto_3)\n",
    "\n",
    "def phi_zp_function(phi_global, m_ponto_zp, m_ponto_3):\n",
    "    phi_ZP = phi_global/(m_ponto_zp/m_ponto_3)\n",
    "    return phi_ZP"
   ]
  },
  {
   "cell_type": "code",
   "execution_count": null,
   "metadata": {},
   "outputs": [],
   "source": []
  },
  {
   "cell_type": "code",
   "execution_count": null,
   "metadata": {},
   "outputs": [],
   "source": []
  }
 ],
 "metadata": {
  "kernelspec": {
   "display_name": "Python 3.9.2 64-bit",
   "language": "python",
   "name": "python3"
  },
  "language_info": {
   "codemirror_mode": {
    "name": "ipython",
    "version": 3
   },
   "file_extension": ".py",
   "mimetype": "text/x-python",
   "name": "python",
   "nbconvert_exporter": "python",
   "pygments_lexer": "ipython3",
   "version": "3.9.2"
  },
  "orig_nbformat": 4,
  "vscode": {
   "interpreter": {
    "hash": "a8e73bb7d213b33d81f619bf6b6d300f88b75612ae1dbe277346efda2afb0abd"
   }
  }
 },
 "nbformat": 4,
 "nbformat_minor": 2
}
