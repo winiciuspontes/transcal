{
 "cells": [
  {
   "cell_type": "markdown",
   "metadata": {},
   "source": [
    "### Realizando todos os imports que serão necessário para o equacionamento do TG"
   ]
  },
  {
   "cell_type": "code",
   "execution_count": 5,
   "metadata": {},
   "outputs": [],
   "source": [
    "import sympy  as sp\n",
    "import numpy as np \n",
    "import pandas as pd \n",
    "import math as mt \n",
    "import matplotlib.pyplot as plt\n",
    "\n"
   ]
  },
  {
   "cell_type": "code",
   "execution_count": 150,
   "metadata": {},
   "outputs": [],
   "source": [
    "from sympy import beta\n",
    "\n",
    "\n",
    "x, y, z, phi, T, T_max, T1, T2, T4,T_mr,delta_T_phi,delta_T_zp,delta_T_zs, delta,P,  P1, P2, P3, A_ref, A_h_eff, phi_ZP, theta, q_ref, A_h_reff, delta_P_3_4, R, m_ponto_3, T3, k, D_ref, phi_global, m_ponto_zp, phi_pobre, phi_rico,A_ft, D_ref, L_cc, L_zp, L_zs, L_zd,L_sz,L_zr, L_dz,  phi_Zs, m_ponto_arref, m_ponto_zd, eta_zr, eta_zp, eta_zs, p_3,T_med_zr, T_max_zr, delta_p, psi_t3, m_ponto_comb,V_zs, teste, T_saida_zp, T_saida_zs, T_saida_zd, mg_ponto_zr, mg_ponto_zp, mg_ponto_zs, m_ponto_zs, rho_an,u_an,rho_g, u_g, m_ponto_fenda, A_fenda, m_ponto_g, mi_ar, mi_g, T_g,  eta_r,D_ft, m_ponto_fenda_zp, m_ponto_fenda_zp, m_ponto_fenda_zs, m_ponto_fenda_zd,mi, beta  = sp.symbols(\n",
    "    [\n",
    "    'x','y','z', 'phi', 'T', 'T_max', 'T1', 'T2', 'T4', 'T_mr', 'delta_T_phi', 'delta_T_zp','delta_T_zs', 'delta','P', 'P1',\n",
    "    'P2', 'P3', 'A_ref', 'A_h_eff', 'phi_ZP', 'theta', 'q_ref', 'A_h_reff', \n",
    "    'delta_P_3_4','R', 'm_ponto_3','T3', 'k', 'D_ref', 'phi_global', 'm_ponto_zp', 'phi_pobre', \n",
    "    'phi_rico','A_ft','D_ref','L_cc','L_zp','L_zs','L_zd', 'L_sz', 'L_zr','L_dz',  \n",
    "    'phi_Zs','m_ponto_arref', 'm_ponto_zd','eta_zr','eta_zp','eta_zs', 'p_3', 'T_med_zr', \n",
    "    'T_max_zr','delta_p', 'psi_t3', 'm_ponto_comb', 'V_zs', 'teste', 'T_saida_zp', \n",
    "    'T_saida_zs', 'T_saida_zd', 'mg_ponto_zr', 'mg_ponto_zp', 'mg_ponto_zs', 'm_ponto_zs', \n",
    "    'rho_an','u_an','rho_g', 'u_g', 'm_ponto_fenda', 'A_fenda','m_ponto_g', 'mi_ar', 'mi_g', 'T_g',  'eta_r', 'D_ft', 'm_ponto_fenda_zp', 'm_ponto_fenda_zd', 'm_ponto_fenda_zs', 'm_ponto_fenda_zd', 'mi', 'beta' \n",
    "    ])\n",
    "\n",
    "\n"
   ]
  },
  {
   "cell_type": "markdown",
   "metadata": {},
   "source": [
    "### Funcao da equação (5):\n",
    "\n",
    "𝐶𝑥𝐻𝑦 + 𝑎𝑂2 → 𝑥𝐶𝑂2 + (𝑦⁄2)𝐻2O"
   ]
  },
  {
   "cell_type": "code",
   "execution_count": 40,
   "metadata": {},
   "outputs": [],
   "source": [
    " #Equacao 5\n",
    "def razao_ar_comb_esteq(a, PMar, PMcomb):\n",
    "    A_C_esteq = a*(1 + 3.7274 + 0.0458) * (PMar/PMcomb)\n",
    "    return A_C_esteq\n",
    "\n",
    "teste = razao_ar_comb_esteq(17.75, 28.9645, 167.3087)\n",
    "# phi_esteq = 1/teste\n",
    "# phi_esteq\n",
    "\n"
   ]
  },
  {
   "cell_type": "markdown",
   "metadata": {},
   "source": [
    "### razão de equivalência\n",
    "A razão de equivalência é uma relação frequentemente usada para indicar se a mistura\n",
    "está pobre, rica ou está estequiométrica. A razão de equivalência é definida como:\n",
    "\n",
    "𝜙 =\n",
    "(𝐴/𝐶)𝑒𝑠𝑡𝑒𝑞\n",
    "(𝐴/𝐶)𝑟𝑒𝑎𝑙\n",
    "=\n",
    "(𝐶/𝐴)𝑟𝑒𝑎𝑙\n",
    "(𝐶/𝐴)𝑒𝑠𝑡𝑒q"
   ]
  },
  {
   "cell_type": "code",
   "execution_count": 177,
   "metadata": {},
   "outputs": [],
   "source": [
    "#Equacao 8 - Define se a mistura é rica ou pobre\n",
    "def razao_equivalencia(A_C_esteq, A_C_real):\n",
    "    phi = A_C_esteq/A_C_real\n",
    "    return ('rica' if phi > 1 else 'pobre')\n",
    "\n",
    "\n"
   ]
  },
  {
   "cell_type": "markdown",
   "metadata": {},
   "source": [
    "### OBSERVAÇÃO\n",
    "\n",
    "Colocar as equações de quantidade de calor e entalpia se fizer sentido"
   ]
  },
  {
   "cell_type": "markdown",
   "metadata": {},
   "source": [
    "DUVIDA : COMO FAREMOS COM RELAÇÃO AO EQUACIONAMENTO DA Temperatura de Chama Adiabática ? "
   ]
  },
  {
   "cell_type": "markdown",
   "metadata": {},
   "source": [
    "### Turbina a gás\n",
    "\n",
    "- Componente 1:\n",
    "    - Compressor, que recebe potência de eixo da turbina, converte em energia que é\n",
    "entregue ao ar elevando a sua entalpia e, por consequência, a pressão e a temperatura\n",
    "desse fluido de trabalho\n",
    "\n",
    "- Componente 2:\n",
    "    - Câmara de combustão, onde o ar, proveniente do compressor, é misturado ao\n",
    "combustível, formando os reagentes. É fornecida energia de ativação para que a\n",
    "combustão desses reagentes inicie e se processe em seu interior\n",
    "\n",
    "\n",
    "- Componente 3:\n",
    "    - Turbina, dispositivo mecânico ideal que converte a entalpia dos gases quentes advindos\n",
    "da câmara de combustão em energia mecânica em potência de eixo"
   ]
  },
  {
   "cell_type": "markdown",
   "metadata": {},
   "source": [
    "### Perda de pressao quente/fria\n",
    "\n",
    "- Sendo 𝑃1 e 𝑃2 as pressões totais nas seções transversais logo ao início e logo ao final do difusor, respectivamente\n",
    "\n",
    "- Onde os parâmetros 𝐴𝑟𝑒𝑓 e 𝑞𝑟𝑒𝑓 são, respectivamente, a área transversal e a pressão\n",
    "dinâmica avaliadas num plano de máxima área transversal da câmara de combustão, delimitada\n",
    "pelo seu invólucro\n",
    "\n",
    "- Já o termo 𝐴ℎ,𝑒𝑓𝑓, que representa a área efetiva total dos orifícios do tubo\n",
    "de chama, pode ser calculado de duas formas"
   ]
  },
  {
   "cell_type": "code",
   "execution_count": 42,
   "metadata": {},
   "outputs": [],
   "source": [
    "def perda_pressao_quente(rho, u, T4, T3):\n",
    "    delta_P_quente = 0.5 * rho * (u**2) * ((T4/T3) - 1 )\n",
    "    return delta_P_quente\n",
    "\n",
    "\n",
    "\n",
    "delta_P_difusor = P1 - P2  #Sendo 𝑃1 e 𝑃2 as pressões totais nas seções transversais logo ao início e logo ao final do difusor, respectivamente\n",
    "\n",
    "def P_turboChama(A_ref, A_h_eff, q_ref):   \n",
    "\n",
    "    delta_P_turbo_chama = ((A_ref/A_h_eff) ** 2) * q_ref\n",
    "\n",
    "    return delta_P_turbo_chama\n",
    "\n",
    "def perda_pressao_fria(P_difusor, P_turbo_chama):\n",
    "    delta_P_fria = sum(P_difusor, P_turbo_chama)\n",
    "    return delta_P_fria\n"
   ]
  },
  {
   "cell_type": "markdown",
   "metadata": {},
   "source": [
    "### Dimensionalizando os orificios do tubo de chama:"
   ]
  },
  {
   "cell_type": "code",
   "execution_count": 43,
   "metadata": {},
   "outputs": [],
   "source": [
    "def dimensao_orificio_tubo_chama(A_ref, delta_p_3_4, q_ref, delta_P_difusor):\n",
    "    dimensao_orificioTuboChama = A_ref/(((delta_p_3_4/q_ref) - (delta_P_difusor/q_ref))**0.5)\n",
    "    return dimensao_orificioTuboChama"
   ]
  },
  {
   "cell_type": "markdown",
   "metadata": {},
   "source": [
    "### Calculando A_h_reff"
   ]
  },
  {
   "cell_type": "code",
   "execution_count": 44,
   "metadata": {},
   "outputs": [],
   "source": [
    "#Como esperando muitos valores de entrada para fazermos o somatório, passaremos como entrada uma lista\n",
    "\n",
    "C_d = []\n",
    "A_h = []\n",
    "\n",
    "def A_h_eff_function(C_d, A_h):\n",
    "    somatorio_A_h_reff = 0\n",
    "    for c in range(len(C_d)):\n",
    "        somatorio_A_h_reff =  somatorio_A_h_reff + C_d[c] * A_h[c]  \n",
    "        \n",
    "    return somatorio_A_h_reff\n",
    "\n",
    "# A_h_eff_function(C_d, A_h)\n"
   ]
  },
  {
   "cell_type": "markdown",
   "metadata": {},
   "source": [
    "### Parametros para especificar a perda de pressão\n",
    "\n",
    "- O primeiro (∆𝑃3−4/𝑃3), chamado de perda de pressão global, geralmente assume\n",
    "valores entre 4% a 8%, dependendo do tipo de câmara de combustão. O segundo termo\n",
    "(∆𝑃3−4/𝑞𝑟𝑒𝑓), chamado de fator de perda de pressão, é mais expressivo para o projetista pois\n",
    "denota a resistência do fluido em atravessar a câmara de combustão. Aerodinamicamente, pode\n",
    "ser considerado um equivalente ao “coeficiente de arrasto”. Ambos os termos não consideram\n",
    "a perda “quente” "
   ]
  },
  {
   "cell_type": "code",
   "execution_count": 179,
   "metadata": {},
   "outputs": [
    {
     "data": {
      "text/latex": [
       "$\\displaystyle \\frac{R^{2} T_{3}^{1.0} \\delta_{P 3 4} m_{ponto 3}^{2} \\left(T_{3} m_{ponto 3}\\right)^{1.0}}{4 A_{ref}^{4} P_{3}^{2} q_{ref}^{2}}$"
      ],
      "text/plain": [
       "R**2*T3**1.0*delta_P_3_4*m_ponto_3**2*(T3*m_ponto_3)**1.0/(4*A_ref**4*P3**2*q_ref**2)"
      ]
     },
     "execution_count": 179,
     "metadata": {},
     "output_type": "execute_result"
    }
   ],
   "source": [
    "delta_P_3_4 = P3 *(delta_P_3_4/q_ref) * (R/2) * ( (((m_ponto_3 * (T3**0.5)))/ (A_ref*P3))**2 )\n",
    "\n",
    "delta_P_3_4"
   ]
  },
  {
   "cell_type": "markdown",
   "metadata": {},
   "source": [
    "### Qualidade Transversal de temp e Perfil Radial de temp\n",
    "\n",
    "\n",
    "- São dois os termos usados para descrever o perfil de temperatura transversal: a\n",
    "Qualidade Transversal de Temperatura (em inglês, Temperature Factor, Traverse Number ou\n",
    "Pattern Factor) e o Perfil Radial de Temperatura (em inglês, Profile Factor), expressos\n",
    "matematicamente a seguir:"
   ]
  },
  {
   "cell_type": "code",
   "execution_count": 46,
   "metadata": {},
   "outputs": [],
   "source": [
    "def qualidade_tranversal_temp(T_max, T4, T3):\n",
    "    qualidade_trans_temp = (T_max - T4)/(T4 - T3)\n",
    "    return qualidade_trans_temp\n",
    "\n",
    "def perfil_radial_temp(T_mr, T4, T3):\n",
    "    perfil_rad_temp = (T_mr - T4)/(T4 - T3)\n",
    "    return perfil_rad_temp\n",
    "\n",
    "#Onde 𝑇𝑚𝑎𝑥 é a máxima temperatura dos gases na saída da câmara de combustão e 𝑇𝑚𝑟 é a temperatura média mais alta de uma linha de circunferência escolhida\n",
    "    "
   ]
  },
  {
   "cell_type": "markdown",
   "metadata": {},
   "source": [
    "### Informacões para dimensionar do combustor\n",
    "\n",
    "- Vazão mássica\n",
    "- Vazão mássica de combustível\n",
    "- Distribuição de temperatura, pressão e velocidade na entrada do combustor;\n",
    "- Perfil transversal de temperatura na saída do combustor;\n",
    "- Limitações de perda de pressão;\n",
    "- Tipos de poluentes e níveis permitidos\n",
    "- Temperatura na parede permitida\n",
    "- Limitações de tamanho\n",
    "- Limitações de peso\n",
    "- Requisitos de durabilidade e semelhança de vida útil entre as trocas de peças;\n",
    "- Compatibilidade com o tipo de combustível;\n",
    "- Outras limitações ou requisitos especiais.\n"
   ]
  },
  {
   "cell_type": "markdown",
   "metadata": {},
   "source": [
    "### Calculo da área de transfência\n",
    "\n",
    "- A constante 𝑘 varia apenas com relação às unidades usadas, é igual à 143,5 ao utilizar\n",
    "a unidades do sistema internacional (SI) e é igual à 0,83, nas unidades 𝑙𝑏, 𝑓𝑡 𝑒 𝑅. O termo 𝑚̇3\n",
    "é vazão mássica de ar, 𝑃3 é a pressão total e 𝑇3 a temperatura estimadas na entrada da câmara,\n",
    "𝑞𝑟𝑒𝑓 é a pressão dinâmica na máxima área da seção transversal da carcaça (𝐴𝑟𝑒𝑓) e ∆𝑃3−4 é a\n",
    "perda de pressão total ao longo da câmara.\n",
    "Já  é a variável que se relaciona com a eficiência da combustão, . Como se busca\n",
    "obter a maior eficiência possível, é utilizado o parâmetro  correspondente, tendo seu valor\n",
    "igual à 73 . 106\n",
    "(unidades do SI)\n",
    "\n",
    "- O fator de correção da temperatura, b, é definido de acordo com a relação ar combustível\n",
    "da zona primária. Para razão de equivalência nesta região entre 0,6 e 1,0, a fórmula 𝑏 =\n",
    "245 (1,39 + ln \n",
    "𝑍𝑃) é empregada. Já para \n",
    "𝑍𝑃 entre 1,0 e 1,4\n",
    "\n",
    "- A razão 𝑚̇𝑍𝑃 𝑚̇ ⁄ 3\n",
    ", ou melhor, a porcentagem de ar a ser designada à zona primária, deve\n",
    "ser escolhida de modo que a razão de equivalência no local esteja na região de flamabilidade\n",
    "da mistura"
   ]
  },
  {
   "cell_type": "code",
   "execution_count": 47,
   "metadata": {},
   "outputs": [],
   "source": [
    "\n",
    "def area_tranferencia_aerodinamica(k, m_ponto_3m, T3, P3, delta_P_3_4, q_ref):\n",
    "    area_transf = k * ( ((m_ponto_3 * (T3**0.5) )/(P3))**2  * ((delta_P_3_4/q_ref)/(delta_P_3_4/P3)) ** 0.5 )\n",
    "    return area_transf\n",
    "\n",
    "def area_tranferencia_quimica(P3, A_ref, D_ref, T3, b, m_ponto_3):\n",
    "    theta = ((P3**1.75) * A_ref * (D_ref ** 0.75) * np.exp(T3/b))/ m_ponto_3\n",
    "    return theta\n",
    "\n"
   ]
  },
  {
   "cell_type": "code",
   "execution_count": 48,
   "metadata": {},
   "outputs": [],
   "source": [
    "\n",
    "def phi_global_function(m_comb_op, m_ponto_3_op, m_comb, m_ponto_3):\n",
    "    phi_global = (m_comb_op/m_ponto_3_op)/ (m_comb/m_ponto_3)\n",
    "\n",
    "def phi_zp_function(phi_global, m_ponto_zp, m_ponto_3):\n",
    "    phi_ZP = phi_global/(m_ponto_zp/m_ponto_3)\n",
    "    return phi_ZP"
   ]
  },
  {
   "cell_type": "markdown",
   "metadata": {},
   "source": [
    "### Definindo o phi pobre e o phi rico"
   ]
  },
  {
   "cell_type": "code",
   "execution_count": 49,
   "metadata": {},
   "outputs": [],
   "source": [
    "def phi_pobre_function(T3):\n",
    "    phi_pobre = 0.70547 - 0.00046 * T3\n",
    "    return phi_pobre\n",
    "def phi_rico_function(T3):\n",
    "    phi_rico = 1.46695 + 0.00172 * T3\n",
    "    return phi_rico"
   ]
  },
  {
   "cell_type": "markdown",
   "metadata": {},
   "source": [
    "### Determinação da Área do Tubo de Chama pagina 54 eq 34"
   ]
  },
  {
   "cell_type": "code",
   "execution_count": 180,
   "metadata": {},
   "outputs": [],
   "source": [
    "def area_ref_trans(A_ref):\n",
    "    A_ft = 0.56*A_ref\n",
    "    return A_ft"
   ]
  },
  {
   "cell_type": "markdown",
   "metadata": {},
   "source": [
    "Altura de Referência e Altura do Tubo de Chama\n",
    "A expressão para o cálculo da altura de referência (𝐷𝑟𝑒𝑓) e da altura do tubo de chama (𝐷𝑓𝑡) é diferente a depender do tipo de combustor o qual foi escolhido para o projeto. Baseandose na expressão relativa a área de um círculo de raio 𝑟 (área=𝜋𝑟2), pode-se chegar nas expressões contidas na Tabela 6, a partir das relações geométricas de cada tipo de combustor, como ilustrado a seguir.\n",
    "\n",
    "Altura de referencia (D_ref)"
   ]
  },
  {
   "cell_type": "code",
   "execution_count": 51,
   "metadata": {},
   "outputs": [],
   "source": [
    "def altura_referencia(A_ref,D_int):\n",
    "    D_ref = (np.sqrt([(4*A_ref)/np.pi()]-pow(D_int,2))-D_int)/2\n",
    "    return D_ref"
   ]
  },
  {
   "cell_type": "markdown",
   "metadata": {},
   "source": [
    "Altura do Tubo de Chama (D_ft)"
   ]
  },
  {
   "cell_type": "code",
   "execution_count": 52,
   "metadata": {},
   "outputs": [],
   "source": [
    "def altura_tubo_chama(A_ft,D_int,D_ref):\n",
    "    D_ft = (A_ft/(np.pi()*(D_int+D_ref)))\n",
    "    return D_ft"
   ]
  },
  {
   "cell_type": "markdown",
   "metadata": {},
   "source": [
    "Determinação do Comprimento das Zonas (36)\n",
    "Com base os estudos de Melconian e Modak , o comprimento da zona primária (𝐿𝑍𝑃) pode ser estimado como estando entre 2/3 e 3/4 da altura do tubo de chama – caso a limitação de espaço permita, a escolha último valor é preferível já que concede uma maior eficiência de combustão. Como parte da zona primária, a zona de recirculação tem seu comprimento sendo aproximadamente metade da altura do tubo de chama. O comprimento da zona secundária (𝐿𝑍𝑆) pode ser estimada também como sendo 1/2 𝐷𝑓𝑡. Já para a zona de diluição (𝐿𝑍𝐷), seu comprimento deve estar em torno de 3/2 de 𝐷𝑓𝑡"
   ]
  },
  {
   "cell_type": "code",
   "execution_count": 53,
   "metadata": {},
   "outputs": [],
   "source": [
    "def comprimento_camara_combustao():\n",
    "  L_cc = L_zp + L_zs + L_zd\n",
    "  return L_cc"
   ]
  },
  {
   "cell_type": "markdown",
   "metadata": {},
   "source": [
    "Determinação Preliminar da Distribuição de Ar\n",
    "A zona secundária tem como função principal prover a completa combustão da mistura, logo, este é a intenção na especificação da quantidade de ar nesta zona. A situação que mais pode limitar a totalidade da combustão é a condição de operação mais rica. Esta condição é demarcada pela maior razão de equivalência global. Neste sentido, espera-se que a razão de equivalência global, até a segunda zona, seja ligeiramente pobre. Fica a critério do projetista determinar o valor exato, considerando as especificações do projeto. Neste trabalho, foi escolhido o valor de 0,8 como convencionado na literatura.\n",
    "\n",
    "0,8 definido pelo Caio segunda referencias Pag 56"
   ]
  },
  {
   "cell_type": "markdown",
   "metadata": {},
   "source": [
    "Quantidade relativa de ar até a zona secundária"
   ]
  },
  {
   "cell_type": "code",
   "execution_count": 54,
   "metadata": {},
   "outputs": [],
   "source": [
    "def quant_ar_zona_secundaria(phi_global,rico,phi_zs):\n",
    "  quanti_relativa_ar = (phi_global+rico)/phi_Zs\n",
    "  return 0.8"
   ]
  },
  {
   "cell_type": "markdown",
   "metadata": {},
   "source": [
    "Estimativa da porcentagem de ar destinada para o resfriamento das paredes do tubo de chama, com aprx de 10%  - página 58"
   ]
  },
  {
   "cell_type": "code",
   "execution_count": 55,
   "metadata": {},
   "outputs": [],
   "source": [
    "def porcentagem_ar_resfriamento(m_ponto_arref, T3, m_ponto_3):\n",
    "    m_ponto_arref = (0.1*T3 - 30) * m_ponto_3\n",
    "    return m_ponto_arref"
   ]
  },
  {
   "cell_type": "markdown",
   "metadata": {},
   "source": [
    "A vazão de ar na zona de diluição(𝑚̇𝑍d) é determinada através da expressão: - Página 58"
   ]
  },
  {
   "cell_type": "code",
   "execution_count": 56,
   "metadata": {},
   "outputs": [],
   "source": [
    "def vazao_ar_zona_diluicao(m_ponto_zp, m_ponto_zs, m_ponto_arref, m_ponto_3):\n",
    "    m_ponto_zd = (1 - (sum(m_ponto_zp, m_ponto_zs, m_ponto_arref))/m_ponto_3 )\n",
    "    return m_ponto_zd"
   ]
  },
  {
   "cell_type": "markdown",
   "metadata": {},
   "source": [
    "### Projeto de arrefecimento do tubo de chama"
   ]
  },
  {
   "cell_type": "markdown",
   "metadata": {},
   "source": [
    "Para que o motor opere em uma quantidade de temperatura que extenda a vida útil para a maioria das ligas metálicas é aconselhado que fique até 1100K. Já operando acima de 1300K corre risco de uma rápida oxidação - página 58"
   ]
  },
  {
   "cell_type": "markdown",
   "metadata": {},
   "source": [
    "### Zona primária"
   ]
  },
  {
   "cell_type": "markdown",
   "metadata": {},
   "source": [
    "Dentro dos limites da zona de recirculação, é considerado que todo seu\n",
    "volume apresenta a mesma temperatura. Isto pode ser assumido devido à\n",
    "forte recirculação dos gases nesta região, o que provoca uma distribuição de\n",
    "temperatura mais homogênea. A temperatura estimada para esta zona é o\n",
    "resultado da média ponderada entre a temperatura mais baixa, a dos gases de\n",
    "entrada, 𝑇3\n",
    ", e a temperatura mais alta, calculada pela seguinte equação: (equacao página59)\n",
    "\n",
    "- Δ𝑇𝜙=1 o aumento de temperatura desenvolvido pela combustão\n",
    "adiabática da mistura na situação de estequiometria. Este valor pode ser\n",
    "obtido através de um programa de equilíbrio químico.\n"
   ]
  },
  {
   "cell_type": "code",
   "execution_count": 57,
   "metadata": {},
   "outputs": [],
   "source": [
    "#Colocar os valores da variavel dentro do tanh para funcionar. Está dando errado que não consegue converter para float.\n",
    "# variavel_dentro_tanh = 1.5475 * (10**-3) * (T3 + 108 * np.log(p_3) - 1863)\n",
    "# eta_zr = 0.83 + (0.17 * mt.tanh(variavel_dentro_tanh))\n",
    "def t_max_zr(T3, eta_zr, delta_T_phi):\n",
    "    t_max_zr = T3 + eta_zr*delta_T_phi\n",
    "    return t_max_zr"
   ]
  },
  {
   "cell_type": "markdown",
   "metadata": {},
   "source": [
    "Para calcular a temperatura média nesta zona - página 60"
   ]
  },
  {
   "cell_type": "code",
   "execution_count": 58,
   "metadata": {},
   "outputs": [],
   "source": [
    "def t_med_zr(T3, T_max_zr):\n",
    "    T_med_zr = (1/3 * T3) + (2/3 * T_max_zr)\n",
    "    return T_med_zr"
   ]
  },
  {
   "cell_type": "markdown",
   "metadata": {},
   "source": [
    "Restante da zona primária  - página 60\n"
   ]
  },
  {
   "cell_type": "code",
   "execution_count": 59,
   "metadata": {},
   "outputs": [],
   "source": [
    "#Colocar os valores da variavel dentro do tanh para funcionar. Está dando errado que não consegue converter para float.\n",
    "# variavel_dentro_tanh = 1.5475 * (10**-3) * (T3 + 108 * np.log(p_3) - 1863)\n",
    "# eta_zp = 0.92 + (0.12 * mt.tanh(variavel_dentro_tanh))\n",
    "def t_saida_zp(T3, eta_zp, delta_T_zp):\n",
    "    T_saida_zp = T3 + (eta_zp * delta_T_zp) \n",
    "    return T_saida_zp"
   ]
  },
  {
   "cell_type": "code",
   "execution_count": null,
   "metadata": {},
   "outputs": [],
   "source": [
    "def t_media_zr(T3, T_max_zr):\n",
    "    t_media_calculo = (1/3 * T3) + (2/3 * T_max_zr)\n",
    "    return t_media_calculo"
   ]
  },
  {
   "cell_type": "markdown",
   "metadata": {},
   "source": [
    "Zona secundária\n",
    "O mesmo método se aplica para o cálculo da temperatura na zona secundária,\n",
    "considerando que a temperatura dos gases que entram nesta região é igual à\n",
    "𝑇𝑠𝑎í𝑑𝑎,𝑍𝑃, e a temperatura final segue o modelo anterior, diferenciando-se apenas\n",
    "na eficiência da combustão nesta zona\n",
    " - página 60"
   ]
  },
  {
   "cell_type": "code",
   "execution_count": 60,
   "metadata": {},
   "outputs": [],
   "source": [
    "#se quiserem da para fazer uma funcao só pegue a temp da zona primaria e temp da zona secundaria\n",
    "def t_saida_zs(T3, eta_zs, delta_T_zs):\n",
    "    T_saida_zs = T3 + (eta_zs * delta_T_zs) \n",
    "    return T_saida_zs"
   ]
  },
  {
   "cell_type": "markdown",
   "metadata": {},
   "source": [
    "Diferenca do eta_ns para misturas ricas e misturas pobres - página 60"
   ]
  },
  {
   "cell_type": "code",
   "execution_count": 61,
   "metadata": {},
   "outputs": [],
   "source": [
    "#misturas ricas\n",
    "eta_zs = 1/phi_Zs\n",
    "\n",
    "#misturas pobres\n",
    "# log log 1⁄𝜂𝑍𝑆 = 0,911log 𝜓𝑇3 + 8,02𝜙 − 1,097 + 𝐷∗ ------ tirar duvidas \n",
    "\n",
    "# sendo 𝐷\n",
    "# ∗ um parâmetro da influência da perda de pressão total ao longo da\n",
    "# câmara e 𝜓𝑇3 um parâmetro chamado de carga cinética do combustível [17],\n",
    "# definidos abaixo\n",
    "\n"
   ]
  },
  {
   "cell_type": "markdown",
   "metadata": {},
   "source": [
    "Definindo D* e psi_T3 - página 61\n",
    "\n",
    "- 𝐷∗ um parâmetro da influência da perda de pressão total ao longo da\n",
    "câmara \n",
    "- 𝜓𝑇3 um parâmetro chamado de carga cinética do combustível [17],\n",
    "definidos abaixo:\n",
    "\n",
    "\n",
    "- 𝑉𝑍𝑆 corresponde ao volume da zona secundária, que, para câmaras anulares sem\n",
    "cúpula corresponde a"
   ]
  },
  {
   "cell_type": "code",
   "execution_count": 62,
   "metadata": {},
   "outputs": [],
   "source": [
    "#definindo D_ast \n",
    "def d_ast(delta_p, P3):\n",
    "\n",
    "    d_ast_calculo = 0.736 - 0.0173 * P3/ delta_p\n",
    "    return d_ast_calculo\n",
    "\n",
    "#Definindo V_zs\n",
    "def V_zs(A_ft, L_sz):\n",
    "    V_zs = A_ft * L_sz\n",
    "    return V_zs\n",
    "\n",
    "\n",
    "#Definindo psi_T3\n",
    "def phi_t3(phi_Zs, m_ponto_comb, V_zs, P):\n",
    "    psi_t3 = (10 ** (-3.054 * (phi_Zs **-1.25))) * (T3 ** (1.2327 * (phi_Zs ** -1.205))) * m_ponto_comb/ V_zs * (P**(2*phi_Zs))\n",
    "    return psi_t3"
   ]
  },
  {
   "cell_type": "markdown",
   "metadata": {},
   "source": [
    "### Zona de diluição\n",
    "- O método para determinação da temperatura na zona de diluição é o mesmo que o para\n",
    "zona secundária, utilizando os termos referentes a zona de diluição e considerando que 𝜙𝑍𝐷 =\n",
    "𝜙𝑔𝑙𝑜𝑏𝑎𝑙 e que 𝑉𝑍𝐷 = 𝐴𝑓𝑡 . 𝐿𝑍𝐷). Por fim, toma-se 𝑇𝑠𝑎í𝑑𝑎,𝑍𝐷 como a 𝑇4\n",
    ". Portando esta temperatura, pode-se calcular o\n",
    "perfil radial de temperatura e qualidade transversal de temperatura\n",
    "\n",
    "- Como este método assume a variação linear de temperatura entre o início e término de\n",
    "cada zona, pode-se inferir uma temperatura local, 𝑇𝑔, que seja dependente da distância (x) entre\n",
    "o ponto de inferência e o início do tubo de chama. A única exceção é a zona de recirculação,\n",
    "onde se assume que a temperatura é constante e igual a 𝑇𝑚é𝑑𝑖𝑎,𝑍𝑅. Foi atribuído um número\n",
    "para cada zona a fim de facilitar o entendimento"
   ]
  },
  {
   "cell_type": "code",
   "execution_count": 65,
   "metadata": {},
   "outputs": [],
   "source": [
    "#Colocar o numero da regiao \n",
    "n_regiao = 1 \n",
    "\n",
    "if(n_regiao == 1):\n",
    "    Tg = T_med_zr\n",
    "\n",
    "elif(n_regiao == 2):\n",
    "    Tg = T_med_zr + ((T_saida_zp + T_med_zr)/(L_zp - L_zr) * (x - L_zr))\n",
    "\n",
    "elif(n_regiao == 3):\n",
    "    Tg = T_saida_zp + ((T_saida_zs - T_saida_zp)/L_zs * (x - L_zp))\n",
    "\n",
    "elif(n_regiao == 4):\n",
    "    Tg = T_saida_zp + ((T_saida_zd - T_saida_zs)/ L_dz * (x - L_zp - L_zs))\n",
    "\n"
   ]
  },
  {
   "cell_type": "markdown",
   "metadata": {},
   "source": [
    "### Estimativa da Vazão Mássica dos Gases ao Longo do Combustor\n",
    "- Outro requisito para aplicar a metodologia de transferência de calor entre os gases e a\n",
    "parede do tubo de chama é conhecer a vazão mássica dos gases e do ar que escoa na região\n",
    "anular. Para determinar os valores de vazão dentro do tubo de chama à uma distância (x)\n",
    "qualquer, foram utilizadas as equações contidas na Tabela 8, que, assim como as equações para\n",
    "determinar 𝑇𝑔, assumem uma variação linear ao longo da câmara. pagina 63\n"
   ]
  },
  {
   "cell_type": "code",
   "execution_count": 73,
   "metadata": {},
   "outputs": [],
   "source": [
    "n_regiao_massa = 1 \n",
    "\n",
    "if(n_regiao_massa == 1):\n",
    "    mg_ponto_zr = 3/4 * m_ponto_zp\n",
    "\n",
    "elif(n_regiao_massa == 2):\n",
    "    mg_ponto_zp = mg_ponto_zr + ((m_ponto_zp - mg_ponto_zr) * (x - L_zr)/(L_zp - L_zr) )\n",
    "\n",
    "elif(n_regiao_massa == 3):\n",
    "    mg_ponto_zs = mg_ponto_zp + ((m_ponto_zs - mg_ponto_zp) * (x - L_zp)/L_zs)\n",
    "\n",
    "elif(n_regiao_massa == 4):\n",
    "    mg_ponto_zd = mg_ponto_zs + ((m_ponto_zd - mg_ponto_zs) * (x - (L_zp + L_zs))/L_zd)"
   ]
  },
  {
   "cell_type": "markdown",
   "metadata": {},
   "source": [
    "### Arrefecimento da Parede do Tubo de Chama por Filme de Resfriamento\n",
    "- o pico de temperatura dos gases se encontra na\n",
    "transição entre a zona primária e a zona secundária\n",
    "\n",
    "- Deve-se então verificar se há necessidade\n",
    "da utilização de fendas de resfriamento nessa região\n",
    "\n",
    "- Os passos seguintes envolvem a aplicação da metodologia de transferência de calor para\n",
    "câmaras com filme de resfriamento proposta por Lefebvre e Balal, e para isto é necessário\n",
    "estipular primeiramente algumas características físicas do material e da fenda a serem\n",
    "empregadas no combustor, como também outras grandezas termodinâmicas do próprio gás,\n",
    "para ao final, obter a temperatura do ar do filme de resfriamento, parâmetro essencial para os\n",
    "cálculos de transferência de calor entre a parede do tubo de chama e os gases.\n",
    "\n",
    "\n",
    "\n",
    "De forma preliminar, deve-se estimar o número de fendas de arrefecimento e suas\n",
    "dimensões. Isso diz respeito à altura e espessura da fenda e do tubo de chama, 𝑠, 𝑡 e 𝑡𝑤,\n",
    "respectivamente \n",
    "pagina 63"
   ]
  },
  {
   "cell_type": "markdown",
   "metadata": {},
   "source": [
    "#### Calculando a área de cada fenda "
   ]
  },
  {
   "cell_type": "code",
   "execution_count": 93,
   "metadata": {},
   "outputs": [],
   "source": [
    "def area_fenda(D_ref, D_ft, s):\n",
    "    area_fenda_calculo = (2 * np.pi * s) * (D_ref + D_ft)\n",
    "    return area_fenda_calculo\n",
    "\n",
    "\n",
    "#Dado a area da fenda, conseguimos calcular a vazao massica\n",
    "def m_ponto_fenda_funcao(area_fenda, m_an, A_an):\n",
    "    vazao_massica_fenda_calculo = m_an * (area_fenda/A_an)\n",
    "    return vazao_massica_fenda_calculo\n",
    "\n"
   ]
  },
  {
   "cell_type": "markdown",
   "metadata": {},
   "source": [
    "Para se obter a eficiência do resfriamento, simbolizada por 𝜂𝑟 e expressa empiricamente\n",
    "pelas equações a seguir, é preciso obter o termo 𝑚, que é a razão (𝜌𝑎𝑛𝑢𝑎𝑛)/(𝜌𝑔𝑢𝑔). O\n",
    "numerador corresponde ao produto entre a densidade e a velocidade do ar que atravessa a área\n",
    "anular, e o denominador, o produto entre a densidade e velocidade do gás no tubo de chama, na\n",
    "região onde está posicionada a fenda, já que o termo 𝑚̇𝑔 corresponde à vazão de gás do tubo de\n",
    "chama nesta mesma região"
   ]
  },
  {
   "cell_type": "code",
   "execution_count": 105,
   "metadata": {},
   "outputs": [],
   "source": [
    "# definindo o m pagina 64 \n",
    "\n",
    "m = (rho_an * u_an)/ (rho_g * u_g)\n",
    "\n",
    "# temos que:\n",
    "\n",
    "rho_an = m_ponto_fenda/(A_fenda)\n",
    "rho_g = m_ponto_g/(A_ft)\n"
   ]
  },
  {
   "cell_type": "markdown",
   "metadata": {},
   "source": [
    "### Definicao do  𝜇𝑎𝑟 e 𝜇_g\n",
    "\n",
    "- Os termos 𝜇𝑎𝑟 e 𝜇𝑔 são as viscosidades dinâmicas do ar e do gás no interior do tubo de\n",
    "chama respectivamente, e podem ser obtidos pelas expressões empíricas:"
   ]
  },
  {
   "cell_type": "code",
   "execution_count": 107,
   "metadata": {},
   "outputs": [],
   "source": [
    "##definicao do mi_ar\n",
    "\n",
    "def mi_ar_funcao(T3):\n",
    "    mi_ar_calculo = (0.03863 + (0.00749 * 𝑇3) - ((5.8564 * 10**-6) * T3 ** 2) + ((2.7769 * 10**-9) * T3**3) - ((4.600774 * 10 **-13) * T3**4 )) * 10 **-5\n",
    "    return mi_ar_calculo"
   ]
  },
  {
   "cell_type": "code",
   "execution_count": 108,
   "metadata": {},
   "outputs": [],
   "source": [
    "##definicao do mi_g\n",
    "\n",
    "def mi_g_funcao(T_g):\n",
    "    mi_g_calculo = (0.03863 + (0.00749 * T_g) - ((5.8564 * 10**-6) * T_g ** 2) + ((2.7769 * 10**-9) * T_g**3) - ((4.600774 * 10 **-13) * T_g**4 )) * 10 **-5\n",
    "    return mi_g_calculo"
   ]
  },
  {
   "cell_type": "markdown",
   "metadata": {},
   "source": [
    "Conhecida a eficiência de resfriamento, pode-se calcular a temperatura dos gases\n",
    "próximos à parede, na região avaliada, com a seguinte equação"
   ]
  },
  {
   "cell_type": "code",
   "execution_count": 110,
   "metadata": {},
   "outputs": [],
   "source": [
    "# Calculando a temperatura dos gases próximo a parede\n",
    "\n",
    "T_gw = T_g - eta_r * (T_g - T3)"
   ]
  },
  {
   "cell_type": "code",
   "execution_count": 111,
   "metadata": {},
   "outputs": [],
   "source": [
    "## Ver a equacao da pagina 66 \n",
    "\n",
    "##ver equacao 58, 59, 60"
   ]
  },
  {
   "cell_type": "markdown",
   "metadata": {},
   "source": [
    "### Fluxo de de calor por radiacao \n",
    "\n",
    "- O símbolo 𝜎 representa a constante de Stefan-Boltzmann, dada em unidades do sistema\n",
    "internacional por aproximadamente 5,67 ∙ 10−8 𝑊𝑚−2𝐾\n",
    "−4\n",
    ". Já 𝜖𝑤 e 𝜖𝑔 simbolizam a\n",
    "emissividade do material da parede do tubo de chama e do gás na temperatura 𝑇𝑔,\n",
    "respectivamente. A emissividade do material pode ser obtida experimentalmente ou a partir de\n",
    "tabelas de emissividade padrão de metais. Já a emissividade do gás pode ser obtida a partir da\n",
    "seguinte equação:\n",
    "𝜖𝑔 = 1 − exp [−0.290𝑃3(𝑞 ∙ 𝑙𝑏)0.5𝑇𝑔−1.5]\n",
    "\n",
    "- onde 𝑞 é a razão entre a massa do combustível e a massa do ar, na região onde se está avaliando\n",
    "a emissividade do gás, e 𝑙𝑏 é o comprimento característico do gás, determinado por\n",
    "3,4 (volume)⁄(área da superfície)."
   ]
  },
  {
   "cell_type": "code",
   "execution_count": 116,
   "metadata": {},
   "outputs": [],
   "source": [
    "\n",
    "## Definindo fluxo de calor por radiação do gás\n",
    "sigma = 5.67 * 10 ** -8 ## constante de Stefan-Boltzmann\n",
    "def r1_funcao(sigma, epsilon_w, epsilon_g,  T_g, T_w1):\n",
    "    R1_calculo = 0.5 * sigma * (1 + epsilon_w) * epsilon_g * (T_g**1.5) * ((T_g ** 2.5) - (T_w1 ** 2.5))\n",
    "    return R1_calculo\n",
    "\n"
   ]
  },
  {
   "cell_type": "markdown",
   "metadata": {},
   "source": [
    "### Definindo o fluxo de calor por radição da parede do tubo de chama R2\n",
    "\n",
    "- Z assume o valor de 0,4 para invólucro de alumínio ou 0,6 para invólucros de aço."
   ]
  },
  {
   "cell_type": "code",
   "execution_count": 117,
   "metadata": {},
   "outputs": [],
   "source": [
    "def r2_funcao(Z, sigma, T_w2, T3):\n",
    "    r2_calculo = Z * sigma * ((T_w2 ** 4) - (T3**4))\n",
    "    return r2_calculo"
   ]
  },
  {
   "cell_type": "markdown",
   "metadata": {},
   "source": [
    "### Definindo a condutividade térmica do gás em função da temperatura\n",
    "\n",
    "- E neste caso, tendo seus parâmetros correspondentes ao gás na posição 𝑥 do interior do\n",
    "tubo de chama. Portanto:\n",
    "𝑅𝑒𝑥 =𝑚̇𝑔/𝐴𝑓𝑡 * 𝑥/𝜇g"
   ]
  },
  {
   "cell_type": "code",
   "execution_count": 136,
   "metadata": {},
   "outputs": [],
   "source": [
    "def kg_funcao(T_g):\n",
    "    k_g_calculo = (5.92657 * 10**4) +( 9.80957 * 10-5 ** T_g) - ((4.89398 * (10**-8) * (T_g**2))) + ((1.501141010 **-11) * (T_g**3))\n",
    "    return k_g_calculo\n",
    "\n",
    "def ka_funcao(T3):\n",
    "    Ka_calculo = (5.92657 * 10**-4) + (9.80957 * (10 **- 5) * T3) - (4.89398 * 10 **-8 * (T3**2))  + ((1.501141010 **-11 ) * (T3 ** 3))\n",
    "    return Ka_calculo\n",
    "\n",
    "def reynolds(rho, u, x, mi):\n",
    "    Re = (rho * u * x)/mi \n",
    "    return Re"
   ]
  },
  {
   "cell_type": "markdown",
   "metadata": {},
   "source": [
    "### Calculando o fluxo de calor por convecção C1"
   ]
  },
  {
   "cell_type": "code",
   "execution_count": 137,
   "metadata": {},
   "outputs": [],
   "source": [
    "##Valor do C1 para o intervalo de 0.5 até 1.3\n",
    "def c1_funcao_0_5(k_g, x, Re, T_wg, T_w1):\n",
    "    c1_calculo = 0.069 * (k_g/x) * (Re ** 0.7 ) * (T_wg - T_w1)\n",
    "    return c1_calculo\n",
    "\n",
    "def c1_funcao_1_3(k_g, x, Re, T_wg, T_w1, s):\n",
    "    c1_calculo = 0.010 * (k_g/x)* (Re ** 0.8 ) * ((x/s) **-0.36) * (T_wg - T_w1)\n",
    "    return c1_calculo\n",
    "\n",
    "##Definindo C2 \n",
    "\n",
    "D_an = D_ref - D_ft\n",
    "\n",
    "def c2_funcao(Ka, D_an, m_ponto_an, A_an, mi_a, T_w2, T3):\n",
    "    c2_calculo = 0.02 * (Ka/(D_an ** 0.2) * ((m_ponto_an)/(A_an*mi_a) ** 0.8)) * (T_w2 - T3)\n",
    "    return c2_calculo\n",
    "\n",
    "\n",
    "\n",
    "\n"
   ]
  },
  {
   "cell_type": "markdown",
   "metadata": {},
   "source": [
    "### Projeto dos origicios de admissão de ar \n",
    "\n",
    "- O objetivo a seguir é determinar o diâmetro de cada um dos orifícios de admissão de ar\n",
    "ao longo da parede do tubo de chama, baseado na vazão de ar desejada para cada zona, que por\n",
    "sua vez depende da distribuição de ar da câmara descrita ao decorrer deste projeto.\n",
    "\n",
    "- Quanto ao posicionamento, na zona primária os orifícios de admissão devem ser\n",
    "posicionados para estimular a formação do círculo mágico, de forma a promover a correta\n",
    "recirculação nesta região. Já para as demais zonas, os orifícios são comumente localizados no\n",
    "início de cada zona. Devido à geometria da câmara de combustão anular, a quantidade de\n",
    "orifícios na parede externa é maior que na parede interna\n",
    "\n",
    "pagina 69"
   ]
  },
  {
   "cell_type": "markdown",
   "metadata": {},
   "source": [
    "#### Calculando a vazao massica de ar a ser admitida pelos orificios da zona primaria, secundaria e de diluição "
   ]
  },
  {
   "cell_type": "code",
   "execution_count": 147,
   "metadata": {},
   "outputs": [],
   "source": [
    "m_h_zp = m_ponto_zp - m_ponto_fenda_zp #equacao 72\n",
    "\n",
    "m_h_zs = m_ponto_zs - m_ponto_fenda_zs #equacao 73\n",
    "\n",
    "m_ponto_h_zd = m_ponto_3 - m_ponto_zs - m_ponto_fenda_zd # equacao 74\n"
   ]
  },
  {
   "cell_type": "markdown",
   "metadata": {},
   "source": [
    "### Área dos orificios \n",
    "\n",
    "- A vazão de cada zona é então inserida na equação a seguir, para se obter a área dos\n",
    "orifícios da respectiva região\n",
    "\n",
    "- O valor típico de perda de pressão pelo escoamento através do orifício é de 0,06 [13].\n",
    "Já o coeficiente de descarga de cada par de orifícios, 𝐶𝐷,ℎ, é dependente da geometria do orifício\n",
    "e da aerodinâmica do escoamento através dele\n",
    "\n",
    "- Em seguida, calcula-se a razão entre as áreas 𝐴ℎ e 𝐴𝑎𝑛,\n",
    "simbolizada pela letra grega 𝛼, e a razão entre as vazões 𝑚̇ℎ,𝑖 e 𝑚̇𝑎𝑛,𝑖\n",
    ", simbolizada pela letra\n",
    "grega 𝛽. Ressaltando que"
   ]
  },
  {
   "cell_type": "code",
   "execution_count": 149,
   "metadata": {},
   "outputs": [],
   "source": [
    "def area_orificio(m_ponto_hi, T3, P3, C_dh, delta_P_h):\n",
    "    a_hi = ((143.5 * m_ponto_hi**2 * T3)/(P3**2 * C_dh**2 * (delta_P_h/P3))) ** 0.5\n",
    "    return a_hi"
   ]
  },
  {
   "cell_type": "markdown",
   "metadata": {},
   "source": [
    "### Calcular depois\n",
    "𝑚̇𝑎𝑛,𝑖 = 𝑚̇3 − ∑𝑚̇𝑓𝑒𝑛𝑑𝑎,𝑖 − ∑𝑚̇𝐻,i"
   ]
  },
  {
   "cell_type": "markdown",
   "metadata": {},
   "source": [
    "### Calculando o valor do fator de perda de pressão do orificio K \n",
    "\n",
    "- 𝛿, o fator de perda de quantidade de movimento, relacionado com a mudança da direção axial\n",
    "do escoamento\n",
    "\n",
    "- Kaddah e\n",
    "Freeman apud Lefebvre e Ballal [2], apresentam que, para orifícios de canto vivo (Figura 20a),\n",
    "𝛿 = 0,8, e, para orifícios de canto convexo (Figura 20b), 𝛿 = 0,6."
   ]
  },
  {
   "cell_type": "code",
   "execution_count": 158,
   "metadata": {},
   "outputs": [],
   "source": [
    "# equacao 77\n",
    "\n",
    "def k_funcao(delta, mi, beta):\n",
    "    k_calculo = 1 + delta**2 * (((2* mi**2) + (4*mi**2 + ((mi**2)/(delta**2) * (4*beta - beta**2)) )) ** 0.5)\n",
    "    return k_calculo\n"
   ]
  },
  {
   "cell_type": "markdown",
   "metadata": {},
   "source": [
    "### Calculando o novo coeficiente de descarga 𝐶𝐷,ℎ\n",
    "\n",
    "- Este processo para a obtenção de 𝐶𝑑,ℎ deve ser repetido até que seu valor convirja, com\n",
    "certa precisão, com o que foi imputado na Equação\n",
    "\n"
   ]
  },
  {
   "cell_type": "code",
   "execution_count": 162,
   "metadata": {},
   "outputs": [],
   "source": [
    "#Equacao 78\n",
    "def c_d_h(K, delta, beta):\n",
    "    c_d_h_calculo = (K - 1)/(delta * ((4*K**2) - ((K*(2 - beta)**2) ) ** 0.5) )\n",
    "    return c_d_h_calculo"
   ]
  },
  {
   "cell_type": "markdown",
   "metadata": {},
   "source": [
    "### Calculando  o valor de diâmetro dos orifícios da respectiva fileira\n",
    "\n",
    "- Estabelecido o valor de 𝐴ℎ,𝑖 , que representa o somatório das áreas de cada orifício em uma fileira de orifícios"
   ]
  },
  {
   "cell_type": "code",
   "execution_count": 166,
   "metadata": {},
   "outputs": [],
   "source": [
    "#Equacao 79\n",
    "def d_hi(A_hi, N_hi):\n",
    "    d_hi_calculo = 2 * np.sqrt(A_hi/(np.pi * N_hi) )\n",
    "    return d_hi_calculo\n",
    "\n",
    "\n"
   ]
  },
  {
   "cell_type": "markdown",
   "metadata": {},
   "source": [
    "### Fazer as ultimas relações O número total de orifícios \n",
    "\n",
    "- em cada fileira 𝑖 é a soma dos orifícios da fileira externa e da fileira interna da parede do tubo de chama\n",
    "\n",
    "𝑁ℎ,𝑖 = 𝑁ℎ,𝑖,𝑒𝑥𝑡 + 𝑁ℎ,𝑖,𝑖𝑛𝑡 \n",
    "\n",
    "- Essa relação é mantida também para o número de orifícios da parede interna, analogamente. \n",
    "𝑁ℎ,𝑖,𝑒𝑥𝑡 < 𝜋(𝐷𝑖𝑛𝑡 + 𝐷𝑟𝑒𝑓 + 𝐷𝑓𝑡 )/2𝑑ℎi"
   ]
  },
  {
   "cell_type": "code",
   "execution_count": 1,
   "metadata": {},
   "outputs": [],
   "source": [
    "# Equacoes 80 para frente acho que é analise"
   ]
  },
  {
   "cell_type": "code",
   "execution_count": 12,
   "metadata": {},
   "outputs": [
    {
     "data": {
      "image/png": "[encoded data removed]",
      "text/plain": [
       "<Figure size 432x288 with 1 Axes>"
      ]
     },
     "metadata": {
      "needs_background": "light"
     },
     "output_type": "display_data"
    },
    {
     "data": {
      "text/plain": [
       "'module://matplotlib_inline.backend_inline'"
      ]
     },
     "execution_count": 12,
     "metadata": {},
     "output_type": "execute_result"
    }
   ],
   "source": [
    "# %matplotlib inline\n",
    "\n",
    "# x = [1,2,3,4]\n",
    "# y = [2,4,6,8]\n",
    "\n",
    "\n",
    "# plt.plot(x,y)\n",
    "# plt.show()\n",
    "# plt.get_backend()"
   ]
  },
  {
   "cell_type": "code",
   "execution_count": null,
   "metadata": {},
   "outputs": [],
   "source": []
  }
 ],
 "metadata": {
  "kernelspec": {
   "display_name": "Python 3.9.2 64-bit",
   "language": "python",
   "name": "python3"
  },
  "language_info": {
   "codemirror_mode": {
    "name": "ipython",
    "version": 3
   },
   "file_extension": ".py",
   "mimetype": "text/x-python",
   "name": "python",
   "nbconvert_exporter": "python",
   "pygments_lexer": "ipython3",
   "version": "3.9.2"
  },
  "orig_nbformat": 4,
  "vscode": {
   "interpreter": {
    "hash": "a8e73bb7d213b33d81f619bf6b6d300f88b75612ae1dbe277346efda2afb0abd"
   }
  }
 },
 "nbformat": 4,
 "nbformat_minor": 2
}
