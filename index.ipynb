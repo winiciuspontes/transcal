{
 "cells": [
  {
   "cell_type": "markdown",
   "metadata": {},
   "source": [
    "### Realizando todos os imports que serão necessário para o equacionamento do TG"
   ]
  },
  {
   "cell_type": "code",
   "execution_count": 16,
   "metadata": {},
   "outputs": [],
   "source": [
    "import sympy  as sp\n",
    "import numpy as np \n",
    "import pandas as pd \n",
    "import math as mt \n",
    "import matplotlib as plt"
   ]
  },
  {
   "cell_type": "code",
   "execution_count": 102,
   "metadata": {},
   "outputs": [
    {
     "data": {
      "text/latex": [
       "$\\displaystyle teta$"
      ],
      "text/plain": [
       "teta"
      ]
     },
     "execution_count": 102,
     "metadata": {},
     "output_type": "execute_result"
    }
   ],
   "source": [
    "x, y, z, phi, T, delta, P1, P2, A_ref, A_h_eff, phi_ZP, theta = sp.symbols(['x','y','z', 'phi', 'T', 'delta', 'P1', 'P2', 'A_ref', 'A_h_eff', 'phi_ZP', 'teta'])\n",
    "teta"
   ]
  },
  {
   "cell_type": "markdown",
   "metadata": {},
   "source": [
    "### Funcao da equação (5):\n",
    "\n",
    "𝐶𝑥𝐻𝑦 + 𝑎𝑂2 → 𝑥𝐶𝑂2 + (𝑦⁄2)𝐻2O"
   ]
  },
  {
   "cell_type": "code",
   "execution_count": 85,
   "metadata": {},
   "outputs": [],
   "source": [
    " \n",
    "def razao_ar_comb_esteq(a, PMar, PMcomb):\n",
    "    A_C_esteq = a*(1 + 3.7274 + 0.0458) * (PMar/PMcomb)\n",
    "    return A_C_esteq\n",
    "\n",
    "teste = razao_ar_comb_esteq(17.75, 28.9645, 167.3087)\n",
    "# phi_esteq = 1/teste\n",
    "# phi_esteq\n"
   ]
  },
  {
   "cell_type": "markdown",
   "metadata": {},
   "source": [
    "### razão de equivalência\n",
    "A razão de equivalência é uma relação frequentemente usada para indicar se a mistura\n",
    "está pobre, rica ou está estequiométrica. A razão de equivalência é definida como:\n",
    "\n",
    "𝜙 =\n",
    "(𝐴/𝐶)𝑒𝑠𝑡𝑒𝑞\n",
    "(𝐴/𝐶)𝑟𝑒𝑎𝑙\n",
    "=\n",
    "(𝐶/𝐴)𝑟𝑒𝑎𝑙\n",
    "(𝐶/𝐴)𝑒𝑠𝑡𝑒q"
   ]
  },
  {
   "cell_type": "code",
   "execution_count": 86,
   "metadata": {},
   "outputs": [],
   "source": [
    "def razao_equivalencia(A_C_esteq, A_C_real):\n",
    "    phi = A_C_esteq/A_C_real\n",
    "    return ('rica' if phi > 1 else 'pobre')\n",
    "\n",
    "\n"
   ]
  },
  {
   "cell_type": "markdown",
   "metadata": {},
   "source": [
    "DUVIDA : COMO FAREMOS COM RELAÇÃO AO EQUACIONAMENTO DA Temperatura de Chama Adiabática ? "
   ]
  },
  {
   "cell_type": "markdown",
   "metadata": {},
   "source": [
    "### Turbina a gás\n",
    "\n",
    "- Componente 1:\n",
    "    - Compressor, que recebe potência de eixo da turbina, converte em energia que é\n",
    "entregue ao ar elevando a sua entalpia e, por consequência, a pressão e a temperatura\n",
    "desse fluido de trabalho\n",
    "\n",
    "- Componente 2:\n",
    "    - Câmara de combustão, onde o ar, proveniente do compressor, é misturado ao\n",
    "combustível, formando os reagentes. É fornecida energia de ativação para que a\n",
    "combustão desses reagentes inicie e se processe em seu interior\n",
    "\n",
    "\n",
    "- Componente 3:\n",
    "    - Turbina, dispositivo mecânico ideal que converte a entalpia dos gases quentes advindos\n",
    "da câmara de combustão em energia mecânica em potência de eixo"
   ]
  },
  {
   "cell_type": "markdown",
   "metadata": {},
   "source": [
    "### Perda de pressao quente/fria\n",
    "\n",
    "- Sendo 𝑃1 e 𝑃2 as pressões totais nas seções transversais logo ao início e logo ao final do difusor, respectivamente\n",
    "\n",
    "- Onde os parâmetros 𝐴𝑟𝑒𝑓 e 𝑞𝑟𝑒𝑓 são, respectivamente, a área transversal e a pressão\n",
    "dinâmica avaliadas num plano de máxima área transversal da câmara de combustão, delimitada\n",
    "pelo seu invólucro\n",
    "\n",
    "- Já o termo 𝐴ℎ,𝑒𝑓𝑓, que representa a área efetiva total dos orifícios do tubo\n",
    "de chama, pode ser calculado de duas formas"
   ]
  },
  {
   "cell_type": "code",
   "execution_count": 98,
   "metadata": {},
   "outputs": [],
   "source": [
    "def perda_pressao_quente(rho, u, T4, T3):\n",
    "    P_quente = 0.5 * rho * (u**2) * ((T4/T3) - 1 )\n",
    "    return P_quente\n",
    "\n",
    "\n",
    "\n",
    "P_difusor = P1 - P2  #Sendo 𝑃1 e 𝑃2 as pressões totais nas seções transversais logo ao início e logo ao final do difusor, respectivamente\n",
    "P_turbo_chama = (A_ref/A_h_eff) ** 2\n",
    "\n",
    "def perda_pressao_fria(P_difusor, P_turbo_chama):\n",
    "    P_fria = sum(P_difusor, P_turbo_chama)\n",
    "\n"
   ]
  },
  {
   "cell_type": "markdown",
   "metadata": {},
   "source": [
    "### pagina 42 eq 23"
   ]
  }
 ],
 "metadata": {
  "kernelspec": {
   "display_name": "Python 3.9.2 64-bit",
   "language": "python",
   "name": "python3"
  },
  "language_info": {
   "codemirror_mode": {
    "name": "ipython",
    "version": 3
   },
   "file_extension": ".py",
   "mimetype": "text/x-python",
   "name": "python",
   "nbconvert_exporter": "python",
   "pygments_lexer": "ipython3",
   "version": "3.9.2"
  },
  "orig_nbformat": 4,
  "vscode": {
   "interpreter": {
    "hash": "a8e73bb7d213b33d81f619bf6b6d300f88b75612ae1dbe277346efda2afb0abd"
   }
  }
 },
 "nbformat": 4,
 "nbformat_minor": 2
}
