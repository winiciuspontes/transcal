{
 "cells": [
  {
   "cell_type": "markdown",
   "metadata": {},
   "source": [
    "### Realizando todos os imports que serão necessário para o equacionamento do TG"
   ]
  },
  {
   "cell_type": "code",
   "execution_count": 60,
   "metadata": {},
   "outputs": [],
   "source": [
    "import sympy  as sp\n",
    "import numpy as np \n",
    "import pandas as pd \n",
    "import math as mt \n",
    "import matplotlib as plt"
   ]
  },
  {
   "cell_type": "code",
   "execution_count": 223,
   "metadata": {},
   "outputs": [],
   "source": [
    "x, y, z, phi, T, T_max, T1, T2, T4,T_mr,delta_T_phi,delta_T_zp,delta_T_zs, delta,P,  P1, P2, P3, A_ref, A_h_eff, phi_ZP, theta, q_ref, A_h_reff, delta_P_3_4, R, m_ponto_3, T3, k, D_ref, phi_global, m_ponto_zp, phi_pobre, phi_rico,A_ft, D_ref, L_cc, L_zp, L_zs, L_zd,L_sz, phi_Zs, m_ponto_arref, m_ponto_zd, eta_zr, eta_zp, eta_zs, p_3,T_med_zr, T_max_zr, delta_p, psi_t3, m_ponto_comb,V_zs   = sp.symbols(\n",
    "    [\n",
    "    'x','y','z', 'phi', 'T', 'T_max', 'T1', 'T2', 'T4', 'T_mr', 'delta_T_phi', 'delta_T_zp','delta_T_zs', 'delta','P', 'P1',\n",
    "    'P2', 'P3', 'A_ref', 'A_h_eff', 'phi_ZP', 'theta', 'q_ref', 'A_h_reff', \n",
    "    'delta_P_3_4','R', 'm_ponto_3','T3', 'k', 'D_ref', 'phi_global', 'm_ponto_zp', 'phi_pobre', 'phi_rico','A_ft','D_ref','L_cc','L_zp','L_zs','L_zd', 'L_sz','phi_Zs','m_ponto_arref', 'm_ponto_zd','eta_zr','eta_zp','eta_zs', 'p_3', 'T_med_zr', 'T_max_zr','delta_p', 'psi_t3', 'm_ponto_comb', 'V_zs'\n",
    "    ])\n",
    "\n"
   ]
  },
  {
   "cell_type": "markdown",
   "metadata": {},
   "source": [
    "### Funcao da equação (5):\n",
    "\n",
    "𝐶𝑥𝐻𝑦 + 𝑎𝑂2 → 𝑥𝐶𝑂2 + (𝑦⁄2)𝐻2O"
   ]
  },
  {
   "cell_type": "code",
   "execution_count": 224,
   "metadata": {},
   "outputs": [],
   "source": [
    " \n",
    "def razao_ar_comb_esteq(a, PMar, PMcomb):\n",
    "    A_C_esteq = a*(1 + 3.7274 + 0.0458) * (PMar/PMcomb)\n",
    "    return A_C_esteq\n",
    "\n",
    "teste = razao_ar_comb_esteq(17.75, 28.9645, 167.3087)\n",
    "# phi_esteq = 1/teste\n",
    "# phi_esteq\n"
   ]
  },
  {
   "cell_type": "markdown",
   "metadata": {},
   "source": [
    "### razão de equivalência\n",
    "A razão de equivalência é uma relação frequentemente usada para indicar se a mistura\n",
    "está pobre, rica ou está estequiométrica. A razão de equivalência é definida como:\n",
    "\n",
    "𝜙 =\n",
    "(𝐴/𝐶)𝑒𝑠𝑡𝑒𝑞\n",
    "(𝐴/𝐶)𝑟𝑒𝑎𝑙\n",
    "=\n",
    "(𝐶/𝐴)𝑟𝑒𝑎𝑙\n",
    "(𝐶/𝐴)𝑒𝑠𝑡𝑒q"
   ]
  },
  {
   "cell_type": "code",
   "execution_count": 225,
   "metadata": {},
   "outputs": [],
   "source": [
    "def razao_equivalencia(A_C_esteq, A_C_real):\n",
    "    phi = A_C_esteq/A_C_real\n",
    "    return ('rica' if phi > 1 else 'pobre')\n",
    "\n",
    "\n"
   ]
  },
  {
   "cell_type": "markdown",
   "metadata": {},
   "source": [
    "DUVIDA : COMO FAREMOS COM RELAÇÃO AO EQUACIONAMENTO DA Temperatura de Chama Adiabática ? "
   ]
  },
  {
   "cell_type": "markdown",
   "metadata": {},
   "source": [
    "### Turbina a gás\n",
    "\n",
    "- Componente 1:\n",
    "    - Compressor, que recebe potência de eixo da turbina, converte em energia que é\n",
    "entregue ao ar elevando a sua entalpia e, por consequência, a pressão e a temperatura\n",
    "desse fluido de trabalho\n",
    "\n",
    "- Componente 2:\n",
    "    - Câmara de combustão, onde o ar, proveniente do compressor, é misturado ao\n",
    "combustível, formando os reagentes. É fornecida energia de ativação para que a\n",
    "combustão desses reagentes inicie e se processe em seu interior\n",
    "\n",
    "\n",
    "- Componente 3:\n",
    "    - Turbina, dispositivo mecânico ideal que converte a entalpia dos gases quentes advindos\n",
    "da câmara de combustão em energia mecânica em potência de eixo"
   ]
  },
  {
   "cell_type": "markdown",
   "metadata": {},
   "source": [
    "### Perda de pressao quente/fria\n",
    "\n",
    "- Sendo 𝑃1 e 𝑃2 as pressões totais nas seções transversais logo ao início e logo ao final do difusor, respectivamente\n",
    "\n",
    "- Onde os parâmetros 𝐴𝑟𝑒𝑓 e 𝑞𝑟𝑒𝑓 são, respectivamente, a área transversal e a pressão\n",
    "dinâmica avaliadas num plano de máxima área transversal da câmara de combustão, delimitada\n",
    "pelo seu invólucro\n",
    "\n",
    "- Já o termo 𝐴ℎ,𝑒𝑓𝑓, que representa a área efetiva total dos orifícios do tubo\n",
    "de chama, pode ser calculado de duas formas"
   ]
  },
  {
   "cell_type": "code",
   "execution_count": 226,
   "metadata": {},
   "outputs": [],
   "source": [
    "def perda_pressao_quente(rho, u, T4, T3):\n",
    "    delta_P_quente = 0.5 * rho * (u**2) * ((T4/T3) - 1 )\n",
    "    return delta_P_quente\n",
    "\n",
    "\n",
    "\n",
    "delta_P_difusor = P1 - P2  #Sendo 𝑃1 e 𝑃2 as pressões totais nas seções transversais logo ao início e logo ao final do difusor, respectivamente\n",
    "\n",
    "def P_turboChama(A_ref, A_h_eff, q_ref):   \n",
    "\n",
    "    delta_P_turbo_chama = ((A_ref/A_h_eff) ** 2) * q_ref\n",
    "\n",
    "    return delta_P_turbo_chama\n",
    "\n",
    "def perda_pressao_fria(P_difusor, P_turbo_chama):\n",
    "    delta_P_fria = sum(P_difusor, P_turbo_chama)\n",
    "    return delta_P_fria\n"
   ]
  },
  {
   "cell_type": "markdown",
   "metadata": {},
   "source": [
    "### Dimensionalizando os orificios do tubo de chama:"
   ]
  },
  {
   "cell_type": "code",
   "execution_count": 227,
   "metadata": {},
   "outputs": [],
   "source": [
    "def dimensao_orificio_tubo_chama(A_ref, delta_p_3_4, q_ref, delta_P_difusor):\n",
    "    dimensao_orificioTuboChama = A_ref/(((delta_p_3_4/q_ref) - (delta_P_difusor/q_ref))**0.5)\n",
    "    return dimensao_orificioTuboChama"
   ]
  },
  {
   "cell_type": "markdown",
   "metadata": {},
   "source": [
    "### Calculando A_h_reff"
   ]
  },
  {
   "cell_type": "code",
   "execution_count": 228,
   "metadata": {},
   "outputs": [],
   "source": [
    "#Como esperando muitos valores de entrada para fazermos o somatório, passaremos como entrada uma lista\n",
    "\n",
    "C_d = []\n",
    "A_h = []\n",
    "\n",
    "def A_h_eff_function(C_d, A_h):\n",
    "    somatorio_A_h_reff = 0\n",
    "    for c in range(len(C_d)):\n",
    "        somatorio_A_h_reff =  somatorio_A_h_reff + C_d[c] * A_h[c]  \n",
    "        \n",
    "    return somatorio_A_h_reff\n",
    "\n",
    "# A_h_eff_function(C_d, A_h)\n"
   ]
  },
  {
   "cell_type": "markdown",
   "metadata": {},
   "source": [
    "### Parametros para especificar a perda de pressão\n",
    "\n",
    "- O primeiro (∆𝑃3−4/𝑃3), chamado de perda de pressão global, geralmente assume\n",
    "valores entre 4% a 8%, dependendo do tipo de câmara de combustão. O segundo termo\n",
    "(∆𝑃3−4/𝑞𝑟𝑒𝑓), chamado de fator de perda de pressão, é mais expressivo para o projetista pois\n",
    "denota a resistência do fluido em atravessar a câmara de combustão. Aerodinamicamente, pode\n",
    "ser considerado um equivalente ao “coeficiente de arrasto”. Ambos os termos não consideram\n",
    "a perda “quente” "
   ]
  },
  {
   "cell_type": "code",
   "execution_count": 229,
   "metadata": {},
   "outputs": [
    {
     "data": {
      "text/latex": [
       "$\\displaystyle \\frac{R \\delta_{P 3 4} \\left(T_{3} m_{ponto 3}\\right)^{1.0}}{2 A_{ref}^{2} P_{3} q_{ref}}$"
      ],
      "text/plain": [
       "R*delta_P_3_4*(T3*m_ponto_3)**1.0/(2*A_ref**2*P3*q_ref)"
      ]
     },
     "execution_count": 229,
     "metadata": {},
     "output_type": "execute_result"
    }
   ],
   "source": [
    "delta_P_3_4 = P3 * (delta_P_3_4/q_ref) * (R/2) * ( (((m_ponto_3 * T3)**0.5)/ (A_ref*P3))**2 )\n",
    "\n",
    "delta_P_3_4"
   ]
  },
  {
   "cell_type": "markdown",
   "metadata": {},
   "source": [
    "### Qualidade Transversal de temp e Perfil Radial de temp\n",
    "\n",
    "\n",
    "- São dois os termos usados para descrever o perfil de temperatura transversal: a\n",
    "Qualidade Transversal de Temperatura (em inglês, Temperature Factor, Traverse Number ou\n",
    "Pattern Factor) e o Perfil Radial de Temperatura (em inglês, Profile Factor), expressos\n",
    "matematicamente a seguir:"
   ]
  },
  {
   "cell_type": "code",
   "execution_count": 230,
   "metadata": {},
   "outputs": [],
   "source": [
    "def qualidade_tranversal_temp(T_max, T4, T3):\n",
    "    qualidade_trans_temp = (T_max - T4)/(T4 - T3)\n",
    "    return qualidade_trans_temp\n",
    "\n",
    "def perfil_radial_temp(T_mr, T4, T3):\n",
    "    perfil_rad_temp = (T_mr - T4)/(T4 - T3)\n",
    "    return perfil_rad_temp\n",
    "\n",
    "#Onde 𝑇𝑚𝑎𝑥 é a máxima temperatura dos gases na saída da câmara de combustão e 𝑇𝑚𝑟 é a temperatura média mais alta de uma linha de circunferência escolhida\n",
    "    "
   ]
  },
  {
   "cell_type": "markdown",
   "metadata": {},
   "source": [
    "### Informacões para dimensionar do combustor\n",
    "\n",
    "- Vazão mássica\n",
    "- Vazão mássica de combustível\n",
    "- Distribuição de temperatura, pressão e velocidade na entrada do combustor;\n",
    "- Perfil transversal de temperatura na saída do combustor;\n",
    "- Limitações de perda de pressão;\n",
    "- Tipos de poluentes e níveis permitidos\n",
    "- Temperatura na parede permitida\n",
    "- Limitações de tamanho\n",
    "- Limitações de peso\n",
    "- Requisitos de durabilidade e semelhança de vida útil entre as trocas de peças;\n",
    "- Compatibilidade com o tipo de combustível;\n",
    "- Outras limitações ou requisitos especiais.\n"
   ]
  },
  {
   "cell_type": "markdown",
   "metadata": {},
   "source": [
    "### Calculo da área de transfência\n",
    "\n",
    "- A constante 𝑘 varia apenas com relação às unidades usadas, é igual à 143,5 ao utilizar\n",
    "a unidades do sistema internacional (SI) e é igual à 0,83, nas unidades 𝑙𝑏, 𝑓𝑡 𝑒 𝑅. O termo 𝑚̇3\n",
    "é vazão mássica de ar, 𝑃3 é a pressão total e 𝑇3 a temperatura estimadas na entrada da câmara,\n",
    "𝑞𝑟𝑒𝑓 é a pressão dinâmica na máxima área da seção transversal da carcaça (𝐴𝑟𝑒𝑓) e ∆𝑃3−4 é a\n",
    "perda de pressão total ao longo da câmara.\n",
    "Já  é a variável que se relaciona com a eficiência da combustão, . Como se busca\n",
    "obter a maior eficiência possível, é utilizado o parâmetro  correspondente, tendo seu valor\n",
    "igual à 73 . 106\n",
    "(unidades do SI)\n",
    "\n",
    "- O fator de correção da temperatura, b, é definido de acordo com a relação ar combustível\n",
    "da zona primária. Para razão de equivalência nesta região entre 0,6 e 1,0, a fórmula 𝑏 =\n",
    "245 (1,39 + ln \n",
    "𝑍𝑃) é empregada. Já para \n",
    "𝑍𝑃 entre 1,0 e 1,4\n",
    "\n",
    "- A razão 𝑚̇𝑍𝑃 𝑚̇ ⁄ 3\n",
    ", ou melhor, a porcentagem de ar a ser designada à zona primária, deve\n",
    "ser escolhida de modo que a razão de equivalência no local esteja na região de flamabilidade\n",
    "da mistura"
   ]
  },
  {
   "cell_type": "code",
   "execution_count": 231,
   "metadata": {},
   "outputs": [],
   "source": [
    "\n",
    "def area_tranferencia_aerodinamica(k, m_ponto_3m, T3, P3, delta_P_3_4, q_ref):\n",
    "    area_transf = k * ( ((m_ponto_3 * (T3**0.5) )/(P3))**2  * ((delta_P_3_4/q_ref)/(delta_P_3_4/P3)) ** 0.5 )\n",
    "    return area_transf\n",
    "\n",
    "def area_tranferencia_quimica(P3, A_ref, D_ref, T3, b, m_ponto_3):\n",
    "    theta = ((P3**1.75) * A_ref * (D_ref ** 0.75) * np.exp(T3/b))/ m_ponto_3\n",
    "    return theta\n",
    "\n"
   ]
  },
  {
   "cell_type": "code",
   "execution_count": 232,
   "metadata": {},
   "outputs": [],
   "source": [
    "\n",
    "def phi_global_function(m_comb_op, m_ponto_3_op, m_comb, m_ponto_3):\n",
    "    phi_global = (m_comb_op/m_ponto_3_op)/ (m_comb/m_ponto_3)\n",
    "\n",
    "def phi_zp_function(phi_global, m_ponto_zp, m_ponto_3):\n",
    "    phi_ZP = phi_global/(m_ponto_zp/m_ponto_3)\n",
    "    return phi_ZP"
   ]
  },
  {
   "cell_type": "markdown",
   "metadata": {},
   "source": [
    "### Definindo o phi pobre e o phi rico"
   ]
  },
  {
   "cell_type": "code",
   "execution_count": 233,
   "metadata": {},
   "outputs": [],
   "source": [
    "def phi_pobre_function(T3):\n",
    "    phi_pobre = 0.70547 - 0.00046 * T3\n",
    "    return phi_pobre\n",
    "def phi_rico_function(T3):\n",
    "    phi_rico = 1.46695 + 0.00172 * T3\n",
    "    return phi_rico"
   ]
  },
  {
   "cell_type": "markdown",
   "metadata": {},
   "source": [
    "### Determinação da Área do Tubo de Chama pagina 54 eq 34"
   ]
  },
  {
   "cell_type": "code",
   "execution_count": 234,
   "metadata": {},
   "outputs": [],
   "source": [
    "def area_tubo_de_chama(A_ref):\n",
    "    A_ft = 0.56*A_ref\n",
    "    return A_ft"
   ]
  },
  {
   "cell_type": "markdown",
   "metadata": {},
   "source": [
    "Altura de Referência e Altura do Tubo de Chama\n",
    "A expressão para o cálculo da altura de referência (𝐷𝑟𝑒𝑓) e da altura do tubo de chama (𝐷𝑓𝑡) é diferente a depender do tipo de combustor o qual foi escolhido para o projeto. Baseandose na expressão relativa a área de um círculo de raio 𝑟 (área=𝜋𝑟2), pode-se chegar nas expressões contidas na Tabela 6, a partir das relações geométricas de cada tipo de combustor, como ilustrado a seguir.\n",
    "\n",
    "Altura de referencia (D_ref)"
   ]
  },
  {
   "cell_type": "code",
   "execution_count": 235,
   "metadata": {},
   "outputs": [],
   "source": [
    "def altura_referencia(A_ref,D_int):\n",
    "    D_ref = (np.sqrt([(4*A_ref)/np.pi()]-pow(D_int,2))-D_int)/2\n",
    "    return D_ref"
   ]
  },
  {
   "cell_type": "markdown",
   "metadata": {},
   "source": [
    "Altura do Tubo de Chama (D_ft)"
   ]
  },
  {
   "cell_type": "code",
   "execution_count": 236,
   "metadata": {},
   "outputs": [],
   "source": [
    "def altura_tubo_chama(A_ft,D_int,D_ref):\n",
    "    D_ft = (A_ft/(np.pi()*(D_int+D_ref)))\n",
    "    return D_ft"
   ]
  },
  {
   "cell_type": "markdown",
   "metadata": {},
   "source": [
    "Determinação do Comprimento das Zonas (36)\n",
    "Com base os estudos de Melconian e Modak , o comprimento da zona primária (𝐿𝑍𝑃) pode ser estimado como estando entre 2/3 e 3/4 da altura do tubo de chama – caso a limitação de espaço permita, a escolha último valor é preferível já que concede uma maior eficiência de combustão. Como parte da zona primária, a zona de recirculação tem seu comprimento sendo aproximadamente metade da altura do tubo de chama. O comprimento da zona secundária (𝐿𝑍𝑆) pode ser estimada também como sendo 1/2 𝐷𝑓𝑡. Já para a zona de diluição (𝐿𝑍𝐷), seu comprimento deve estar em torno de 3/2 de 𝐷𝑓𝑡"
   ]
  },
  {
   "cell_type": "code",
   "execution_count": 237,
   "metadata": {},
   "outputs": [],
   "source": [
    "def comprimento_camara_combustao():\n",
    "  L_cc = L_zp + L_zs + L_zd\n",
    "  return L_cc"
   ]
  },
  {
   "cell_type": "markdown",
   "metadata": {},
   "source": [
    "Determinação Preliminar da Distribuição de Ar\n",
    "A zona secundária tem como função principal prover a completa combustão da mistura, logo, este é a intenção na especificação da quantidade de ar nesta zona. A situação que mais pode limitar a totalidade da combustão é a condição de operação mais rica. Esta condição é demarcada pela maior razão de equivalência global. Neste sentido, espera-se que a razão de equivalência global, até a segunda zona, seja ligeiramente pobre. Fica a critério do projetista determinar o valor exato, considerando as especificações do projeto. Neste trabalho, foi escolhido o valor de 0,8 como convencionado na literatura.\n",
    "\n",
    "0,8 definido pelo Caio segunda referencias Pag 56"
   ]
  },
  {
   "cell_type": "markdown",
   "metadata": {},
   "source": [
    "Quantidade relativa de ar até a zona secundária"
   ]
  },
  {
   "cell_type": "code",
   "execution_count": 238,
   "metadata": {},
   "outputs": [],
   "source": [
    "def quant_ar_zona_secundaria(phi_global,rico,phi_zs):\n",
    "  quanti_relativa_ar = (phi_global+rico)/phi_Zs\n",
    "  return 0.8"
   ]
  },
  {
   "cell_type": "markdown",
   "metadata": {},
   "source": [
    "Estimativa da porcentagem de ar destinada para o resfriamento das paredes do tubo de chama, com aprx de 10%  - página 58"
   ]
  },
  {
   "cell_type": "code",
   "execution_count": 239,
   "metadata": {},
   "outputs": [],
   "source": [
    "def porcentagem_ar_resfriamento(m_ponto_arref, T3, m_ponto_3):\n",
    "    m_ponto_arref = (0.1*T3 - 30) * m_ponto_3\n",
    "    return m_ponto_arref"
   ]
  },
  {
   "cell_type": "markdown",
   "metadata": {},
   "source": [
    "A vazão de ar na zona de diluição(𝑚̇𝑍d) é determinada através da expressão: - Página 58"
   ]
  },
  {
   "cell_type": "code",
   "execution_count": 240,
   "metadata": {},
   "outputs": [],
   "source": [
    "def vazao_ar_zona_diluicao(m_ponto_zp, m_ponto_zs, m_ponto_arref, m_ponto_3):\n",
    "    m_ponto_zd = (1 - (sum(m_ponto_zp, m_ponto_zs, m_ponto_arref))/m_ponto_3 )\n",
    "    return m_ponto_3"
   ]
  },
  {
   "cell_type": "markdown",
   "metadata": {},
   "source": [
    "### Projeto de arrefecimento do tubo de chama"
   ]
  },
  {
   "cell_type": "markdown",
   "metadata": {},
   "source": [
    "Para que o motor opere em uma quantidade de temperatura que extenda a vida útil para a maioria das ligas metálicas é aconselhado que fique até 1100K. Já operando acima de 1300K corre risco de uma rápida oxidação - página 58"
   ]
  },
  {
   "cell_type": "markdown",
   "metadata": {},
   "source": [
    "### Zona primária"
   ]
  },
  {
   "cell_type": "markdown",
   "metadata": {},
   "source": [
    "Dentro dos limites da zona de recirculação, é considerado que todo seu\n",
    "volume apresenta a mesma temperatura. Isto pode ser assumido devido à\n",
    "forte recirculação dos gases nesta região, o que provoca uma distribuição de\n",
    "temperatura mais homogênea. A temperatura estimada para esta zona é o\n",
    "resultado da média ponderada entre a temperatura mais baixa, a dos gases de\n",
    "entrada, 𝑇3\n",
    ", e a temperatura mais alta, calculada pela seguinte equação: (equacao página59)\n",
    "\n",
    "- Δ𝑇𝜙=1 o aumento de temperatura desenvolvido pela combustão\n",
    "adiabática da mistura na situação de estequiometria. Este valor pode ser\n",
    "obtido através de um programa de equilíbrio químico.\n"
   ]
  },
  {
   "cell_type": "code",
   "execution_count": 241,
   "metadata": {},
   "outputs": [],
   "source": [
    "#Colocar os valores da variavel dentro do tanh para funcionar. Está dando errado que não consegue converter para float.\n",
    "# variavel_dentro_tanh = 1.5475 * (10**-3) * (T3 + 108 * np.log(p_3) - 1863)\n",
    "# eta_zr = 0.83 + (0.17 * mt.tanh(variavel_dentro_tanh))\n",
    "def t_max_zr(T3, eta_zr, delta_T_phi):\n",
    "    t_max_zr = T3 + eta_zr*delta_T_phi\n",
    "    return t_max_zr"
   ]
  },
  {
   "cell_type": "markdown",
   "metadata": {},
   "source": [
    "Para calcular a temperatura média nesta zona - página 60"
   ]
  },
  {
   "cell_type": "code",
   "execution_count": 242,
   "metadata": {},
   "outputs": [],
   "source": [
    "def t_med_zr(T3, T_max_zr):\n",
    "    T_med_zr = (1/3 * T3) + (2/3 * T_max_zr)\n",
    "    return T_med_zr"
   ]
  },
  {
   "cell_type": "markdown",
   "metadata": {},
   "source": [
    "Restante da zona primária  - página 60\n"
   ]
  },
  {
   "cell_type": "code",
   "execution_count": 243,
   "metadata": {},
   "outputs": [],
   "source": [
    "#Colocar os valores da variavel dentro do tanh para funcionar. Está dando errado que não consegue converter para float.\n",
    "# variavel_dentro_tanh = 1.5475 * (10**-3) * (T3 + 108 * np.log(p_3) - 1863)\n",
    "# eta_zp = 0.92 + (0.12 * mt.tanh(variavel_dentro_tanh))\n",
    "def t_saida_zp(T3, eta_zp, delta_T_zp):\n",
    "    T_saida_zp = T3 + (eta_zp * delta_T_zp) \n",
    "    return T_saida_zp"
   ]
  },
  {
   "cell_type": "markdown",
   "metadata": {},
   "source": [
    "Zona secundária\n",
    "O mesmo método se aplica para o cálculo da temperatura na zona secundária,\n",
    "considerando que a temperatura dos gases que entram nesta região é igual à\n",
    "𝑇𝑠𝑎í𝑑𝑎,𝑍𝑃, e a temperatura final segue o modelo anterior, diferenciando-se apenas\n",
    "na eficiência da combustão nesta zona\n",
    " - página 60"
   ]
  },
  {
   "cell_type": "code",
   "execution_count": 244,
   "metadata": {},
   "outputs": [],
   "source": [
    "#se quiserem da para fazer uma funcao só pegue a temp da zona primaria e temp da zona secundaria\n",
    "def t_saida_zp(T3, eta_zs, delta_T_zs):\n",
    "    T_saida_zs = T3 + (eta_zs * delta_T_zs) \n",
    "    return T_saida_zs"
   ]
  },
  {
   "cell_type": "markdown",
   "metadata": {},
   "source": [
    "Diferenca do eta_ns para misturas ricas e misturas pobres - página 60"
   ]
  },
  {
   "cell_type": "code",
   "execution_count": 245,
   "metadata": {},
   "outputs": [],
   "source": [
    "#misturas ricas\n",
    "eta_zs = 1/phi_Zs\n",
    "\n",
    "#misturas pobres\n",
    "# log log 1⁄𝜂𝑍𝑆 = 0,911log 𝜓𝑇3 + 8,02𝜙 − 1,097 + 𝐷∗ ------ tirar duvidas \n",
    "\n",
    "# sendo 𝐷\n",
    "# ∗ um parâmetro da influência da perda de pressão total ao longo da\n",
    "# câmara e 𝜓𝑇3 um parâmetro chamado de carga cinética do combustível [17],\n",
    "# definidos abaixo\n",
    "\n"
   ]
  },
  {
   "cell_type": "markdown",
   "metadata": {},
   "source": [
    "Definindo D* e psi_T3 - página 61\n",
    "\n",
    "- 𝐷∗ um parâmetro da influência da perda de pressão total ao longo da\n",
    "câmara \n",
    "- 𝜓𝑇3 um parâmetro chamado de carga cinética do combustível [17],\n",
    "definidos abaixo:\n",
    "\n",
    "\n",
    "- 𝑉𝑍𝑆 corresponde ao volume da zona secundária, que, para câmaras anulares sem\n",
    "cúpula corresponde a"
   ]
  },
  {
   "cell_type": "code",
   "execution_count": 246,
   "metadata": {},
   "outputs": [],
   "source": [
    "#definindo D_ast \n",
    "D_ast = 0.736 - 0.0173 * P3/delta_p\n",
    "\n",
    "#Definindo V_zs\n",
    "def V_zs(A_ft, L_sz):\n",
    "    V_zs = A_ft * L_sz\n",
    "    return V_zs\n",
    "\n",
    "\n",
    "#Definindo psi_T3\n",
    "def phi_t3(phi_Zs, m_ponto_comb, V_zs, P):\n",
    "    psi_t3 = (10 ** (-3.054 * (phi_Zs **-1.25))) * (T3 ** (1.2327 * (phi_Zs ** -1.205))) * m_ponto_comb/ V_zs * (P**(2*phi_Zs))\n",
    "    return psi_t3"
   ]
  },
  {
   "cell_type": "markdown",
   "metadata": {},
   "source": [
    "### Zona de diluição\n",
    "O método para determinação da temperatura na zona de diluição é o mesmo que o para\n",
    "zona secundária, utilizando os termos referentes a zona de diluição e considerando que 𝜙𝑍𝐷 =\n",
    "𝜙𝑔𝑙𝑜𝑏𝑎𝑙 e que 𝑉𝑍𝐷 = 𝐴𝑓𝑡 . 𝐿𝑍𝐷). Por fim, toma-se 𝑇𝑠𝑎í𝑑𝑎,𝑍𝐷 como a 𝑇4\n",
    ". Portando esta temperatura, pode-se calcular o\n",
    "perfil radial de temperatura e qualidade transversal de temperatura"
   ]
  }
 ],
 "metadata": {
  "kernelspec": {
   "display_name": "Python 3.9.2 64-bit",
   "language": "python",
   "name": "python3"
  },
  "language_info": {
   "codemirror_mode": {
    "name": "ipython",
    "version": 3
   },
   "file_extension": ".py",
   "mimetype": "text/x-python",
   "name": "python",
   "nbconvert_exporter": "python",
   "pygments_lexer": "ipython3",
   "version": "3.9.2"
  },
  "orig_nbformat": 4,
  "vscode": {
   "interpreter": {
    "hash": "a8e73bb7d213b33d81f619bf6b6d300f88b75612ae1dbe277346efda2afb0abd"
   }
  }
 },
 "nbformat": 4,
 "nbformat_minor": 2
}
